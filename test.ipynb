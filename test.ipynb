{
 "cells": [
  {
   "cell_type": "code",
   "execution_count": 1,
   "metadata": {},
   "outputs": [],
   "source": [
    "import plotly.express as px\n",
    "import plotly.graph_objects as go\n",
    "import pandas as pd\n",
    "import numpy as np"
   ]
  },
  {
   "cell_type": "code",
   "execution_count": 2,
   "metadata": {},
   "outputs": [],
   "source": [
    "## umap csv\n",
    "df = pd.read_csv('umap_appended.csv')\n",
    "\n",
    "## Split into dataframes based on labels (umap)\n",
    "df_umap_1 = df.loc[df['labels'] == 0]\n",
    "df_umap_2 = df.loc[df['labels'] == 1]\n",
    "df_umap_3 = df.loc[df['labels'] == 2]\n",
    "df_umap_1_describe = df_umap_1.describe()\n",
    "df_umap_2_describe = df_umap_2.describe()\n",
    "df_umap_3_describe = df_umap_3.describe()"
   ]
  },
  {
   "cell_type": "code",
   "execution_count": 4,
   "metadata": {},
   "outputs": [
    {
     "data": {
      "text/plain": [
       "(7172, 344)"
      ]
     },
     "execution_count": 4,
     "metadata": {},
     "output_type": "execute_result"
    }
   ],
   "source": [
    "df_umap_1.shape"
   ]
  },
  {
   "cell_type": "code",
   "execution_count": 6,
   "metadata": {},
   "outputs": [
    {
     "data": {
      "text/plain": [
       "5818    1177788.5\n",
       "Name: respiratory_rate2, dtype: float64"
      ]
     },
     "execution_count": 6,
     "metadata": {},
     "output_type": "execute_result"
    }
   ],
   "source": [
    "subsetDataFrame = df_umap_1[df_umap_1['respiratory_rate2'] > 100]\n",
    "subsetDataFrame.head()\n",
    "subsetDataFrame['respiratory_rate2']"
   ]
  },
  {
   "cell_type": "code",
   "execution_count": 18,
   "metadata": {},
   "outputs": [
    {
     "data": {
      "text/plain": [
       "count    7.172000e+03\n",
       "mean     1.830226e+02\n",
       "std      1.390722e+04\n",
       "min      0.000000e+00\n",
       "25%      1.466667e+01\n",
       "50%      1.800000e+01\n",
       "75%      2.200000e+01\n",
       "max      1.177788e+06\n",
       "Name: respiratory_rate2, dtype: float64"
      ]
     },
     "execution_count": 18,
     "metadata": {},
     "output_type": "execute_result"
    }
   ],
   "source": [
    "df_umap_1_describe['respiratory_rate2']"
   ]
  },
  {
   "cell_type": "code",
   "execution_count": 9,
   "metadata": {},
   "outputs": [],
   "source": [
    "## sampling function for each label\n",
    "def sample_plot(df_label, df_describe, n, features, y_label):\n",
    "    sample = df_label.sample(n)\n",
    "    new_df = sample.loc[:, sample.columns.to_series().str.contains(features)]\n",
    "    transpose  = new_df.transpose()\n",
    "    transpose.columns = ['sample'+'_{}'.format(i) for i in range(len(transpose.columns))]\n",
    "    ## mean median\n",
    "    mean_df = df_describe.loc[['mean'], df_describe.columns.to_series().str.contains(features)]\n",
    "    median_df = df_describe.loc[['50%'], df_describe.columns.to_series().str.contains(features)]\n",
    "    mean_Transpose = mean_df.transpose()\n",
    "    median_Transpose = median_df.transpose()\n",
    "    ## merge the two dataframes\n",
    "    mean_median_Transpose = pd.merge(mean_Transpose, median_Transpose, left_index=True, right_index=True)\n",
    "    mean_median_Transpose.columns = ['mean', 'median']\n",
    "\n",
    "    fig = go.Figure()\n",
    "    for i in range(len(transpose.columns)):\n",
    "        fig.add_trace(go.Scatter(x=transpose.index, y=transpose.iloc[:,i], name=transpose.columns[i], line = dict(width=2, dash='dash')))\n",
    "    fig.add_trace(go.Scatter(x=mean_median_Transpose.index, y=mean_median_Transpose['mean'], name='mean', line=dict(color='firebrick', width=2)))\n",
    "    fig.add_trace(go.Scatter(x=mean_median_Transpose.index, y=mean_median_Transpose['median'], name='median', line=dict(color='royalblue', width=2)))\n",
    "    fig.update_layout(xaxis_title='Time', yaxis_title=y_label)\n",
    "    fig.show()\n",
    "        "
   ]
  },
  {
   "cell_type": "code",
   "execution_count": 11,
   "metadata": {},
   "outputs": [
    {
     "data": {
      "application/vnd.plotly.v1+json": {
       "config": {
        "plotlyServerURL": "https://plot.ly"
       },
       "data": [
        {
         "line": {
          "dash": "dash",
          "width": 2
         },
         "name": "sample_0",
         "type": "scatter",
         "x": [
          "heart_rate0",
          "heart_rate1",
          "heart_rate2",
          "heart_rate3",
          "heart_rate4",
          "heart_rate5",
          "heart_rate6",
          "heart_rate7",
          "heart_rate8",
          "heart_rate9",
          "heart_rate10",
          "heart_rate11",
          "heart_rate12",
          "heart_rate13",
          "heart_rate14",
          "heart_rate15",
          "heart_rate16",
          "heart_rate17",
          "heart_rate18",
          "heart_rate19",
          "heart_rate20",
          "heart_rate21",
          "heart_rate22",
          "heart_rate23",
          "heart_rate24",
          "heart_rate25",
          "heart_rate26",
          "heart_rate27",
          "heart_rate28",
          "heart_rate29",
          "heart_rate30",
          "heart_rate31",
          "heart_rate32",
          "heart_rate33",
          "heart_rate34",
          "heart_rate35",
          "heart_rate36",
          "heart_rate37",
          "heart_rate38",
          "heart_rate39",
          "heart_rate40",
          "heart_rate41",
          "heart_rate42",
          "heart_rate43",
          "heart_rate44",
          "heart_rate45",
          "heart_rate46",
          "heart_rate47"
         ],
         "y": [
          79.33333333333333,
          79.33333333333333,
          79.33333333333333,
          81,
          74,
          69,
          75,
          78,
          84,
          74,
          85,
          74,
          76,
          68,
          66,
          63,
          64,
          71,
          61,
          68,
          69,
          61,
          73,
          60,
          59,
          61,
          61,
          76,
          80,
          77,
          69,
          72,
          71,
          72,
          68,
          66,
          67,
          62,
          66,
          69,
          72,
          70.5,
          68,
          66,
          66,
          70,
          67,
          73
         ]
        },
        {
         "line": {
          "dash": "dash",
          "width": 2
         },
         "name": "sample_1",
         "type": "scatter",
         "x": [
          "heart_rate0",
          "heart_rate1",
          "heart_rate2",
          "heart_rate3",
          "heart_rate4",
          "heart_rate5",
          "heart_rate6",
          "heart_rate7",
          "heart_rate8",
          "heart_rate9",
          "heart_rate10",
          "heart_rate11",
          "heart_rate12",
          "heart_rate13",
          "heart_rate14",
          "heart_rate15",
          "heart_rate16",
          "heart_rate17",
          "heart_rate18",
          "heart_rate19",
          "heart_rate20",
          "heart_rate21",
          "heart_rate22",
          "heart_rate23",
          "heart_rate24",
          "heart_rate25",
          "heart_rate26",
          "heart_rate27",
          "heart_rate28",
          "heart_rate29",
          "heart_rate30",
          "heart_rate31",
          "heart_rate32",
          "heart_rate33",
          "heart_rate34",
          "heart_rate35",
          "heart_rate36",
          "heart_rate37",
          "heart_rate38",
          "heart_rate39",
          "heart_rate40",
          "heart_rate41",
          "heart_rate42",
          "heart_rate43",
          "heart_rate44",
          "heart_rate45",
          "heart_rate46",
          "heart_rate47"
         ],
         "y": [
          110,
          112,
          116,
          115,
          122,
          105,
          106,
          100,
          93,
          102,
          102,
          107,
          114,
          111,
          114,
          118,
          97,
          93,
          104,
          91,
          100,
          96,
          96,
          106,
          101,
          100,
          102,
          100,
          93,
          101,
          102,
          89,
          94,
          87,
          88,
          93.5,
          95,
          107,
          102,
          101,
          94,
          86,
          88,
          81,
          86,
          82,
          90,
          87
         ]
        },
        {
         "line": {
          "dash": "dash",
          "width": 2
         },
         "name": "sample_2",
         "type": "scatter",
         "x": [
          "heart_rate0",
          "heart_rate1",
          "heart_rate2",
          "heart_rate3",
          "heart_rate4",
          "heart_rate5",
          "heart_rate6",
          "heart_rate7",
          "heart_rate8",
          "heart_rate9",
          "heart_rate10",
          "heart_rate11",
          "heart_rate12",
          "heart_rate13",
          "heart_rate14",
          "heart_rate15",
          "heart_rate16",
          "heart_rate17",
          "heart_rate18",
          "heart_rate19",
          "heart_rate20",
          "heart_rate21",
          "heart_rate22",
          "heart_rate23",
          "heart_rate24",
          "heart_rate25",
          "heart_rate26",
          "heart_rate27",
          "heart_rate28",
          "heart_rate29",
          "heart_rate30",
          "heart_rate31",
          "heart_rate32",
          "heart_rate33",
          "heart_rate34",
          "heart_rate35",
          "heart_rate36",
          "heart_rate37",
          "heart_rate38",
          "heart_rate39",
          "heart_rate40",
          "heart_rate41",
          "heart_rate42",
          "heart_rate43",
          "heart_rate44",
          "heart_rate45",
          "heart_rate46",
          "heart_rate47"
         ],
         "y": [
          83.33333333333333,
          83.33333333333333,
          82.5,
          84,
          86.5,
          86,
          86,
          88,
          88,
          89,
          91,
          92,
          81,
          91,
          91,
          90,
          90,
          90,
          92,
          91,
          113,
          114,
          117,
          116,
          87,
          112.5,
          82,
          74,
          70,
          71,
          74,
          78,
          69,
          76,
          75,
          81,
          68,
          82,
          67,
          63,
          65,
          59,
          63,
          76,
          60,
          83,
          83,
          81
         ]
        },
        {
         "line": {
          "dash": "dash",
          "width": 2
         },
         "name": "sample_3",
         "type": "scatter",
         "x": [
          "heart_rate0",
          "heart_rate1",
          "heart_rate2",
          "heart_rate3",
          "heart_rate4",
          "heart_rate5",
          "heart_rate6",
          "heart_rate7",
          "heart_rate8",
          "heart_rate9",
          "heart_rate10",
          "heart_rate11",
          "heart_rate12",
          "heart_rate13",
          "heart_rate14",
          "heart_rate15",
          "heart_rate16",
          "heart_rate17",
          "heart_rate18",
          "heart_rate19",
          "heart_rate20",
          "heart_rate21",
          "heart_rate22",
          "heart_rate23",
          "heart_rate24",
          "heart_rate25",
          "heart_rate26",
          "heart_rate27",
          "heart_rate28",
          "heart_rate29",
          "heart_rate30",
          "heart_rate31",
          "heart_rate32",
          "heart_rate33",
          "heart_rate34",
          "heart_rate35",
          "heart_rate36",
          "heart_rate37",
          "heart_rate38",
          "heart_rate39",
          "heart_rate40",
          "heart_rate41",
          "heart_rate42",
          "heart_rate43",
          "heart_rate44",
          "heart_rate45",
          "heart_rate46",
          "heart_rate47"
         ],
         "y": [
          81,
          70,
          66,
          68,
          73,
          65,
          66,
          66,
          62.5,
          71,
          61,
          74,
          65,
          68,
          68,
          68,
          70,
          75,
          78,
          68,
          75,
          75,
          64,
          87,
          74,
          80,
          88.5,
          85,
          87,
          81,
          89,
          91,
          91,
          80,
          88,
          80,
          79,
          91,
          89,
          78,
          77,
          89,
          83,
          75,
          76,
          78,
          70,
          65
         ]
        },
        {
         "line": {
          "dash": "dash",
          "width": 2
         },
         "name": "sample_4",
         "type": "scatter",
         "x": [
          "heart_rate0",
          "heart_rate1",
          "heart_rate2",
          "heart_rate3",
          "heart_rate4",
          "heart_rate5",
          "heart_rate6",
          "heart_rate7",
          "heart_rate8",
          "heart_rate9",
          "heart_rate10",
          "heart_rate11",
          "heart_rate12",
          "heart_rate13",
          "heart_rate14",
          "heart_rate15",
          "heart_rate16",
          "heart_rate17",
          "heart_rate18",
          "heart_rate19",
          "heart_rate20",
          "heart_rate21",
          "heart_rate22",
          "heart_rate23",
          "heart_rate24",
          "heart_rate25",
          "heart_rate26",
          "heart_rate27",
          "heart_rate28",
          "heart_rate29",
          "heart_rate30",
          "heart_rate31",
          "heart_rate32",
          "heart_rate33",
          "heart_rate34",
          "heart_rate35",
          "heart_rate36",
          "heart_rate37",
          "heart_rate38",
          "heart_rate39",
          "heart_rate40",
          "heart_rate41",
          "heart_rate42",
          "heart_rate43",
          "heart_rate44",
          "heart_rate45",
          "heart_rate46",
          "heart_rate47"
         ],
         "y": [
          85,
          82,
          82,
          81,
          89,
          88,
          90,
          94,
          80,
          115.5,
          147,
          142,
          77,
          78,
          78,
          68,
          66,
          67,
          119,
          118,
          132,
          92.66666666666669,
          68,
          62,
          60,
          73,
          64,
          65,
          61,
          64,
          57,
          59,
          56,
          69,
          61,
          68,
          66,
          68,
          70,
          65,
          66,
          69,
          66,
          66,
          75,
          73,
          74,
          70
         ]
        },
        {
         "line": {
          "color": "firebrick",
          "width": 2
         },
         "name": "mean",
         "type": "scatter",
         "x": [
          "heart_rate0",
          "heart_rate1",
          "heart_rate2",
          "heart_rate3",
          "heart_rate4",
          "heart_rate5",
          "heart_rate6",
          "heart_rate7",
          "heart_rate8",
          "heart_rate9",
          "heart_rate10",
          "heart_rate11",
          "heart_rate12",
          "heart_rate13",
          "heart_rate14",
          "heart_rate15",
          "heart_rate16",
          "heart_rate17",
          "heart_rate18",
          "heart_rate19",
          "heart_rate20",
          "heart_rate21",
          "heart_rate22",
          "heart_rate23",
          "heart_rate24",
          "heart_rate25",
          "heart_rate26",
          "heart_rate27",
          "heart_rate28",
          "heart_rate29",
          "heart_rate30",
          "heart_rate31",
          "heart_rate32",
          "heart_rate33",
          "heart_rate34",
          "heart_rate35",
          "heart_rate36",
          "heart_rate37",
          "heart_rate38",
          "heart_rate39",
          "heart_rate40",
          "heart_rate41",
          "heart_rate42",
          "heart_rate43",
          "heart_rate44",
          "heart_rate45",
          "heart_rate46",
          "heart_rate47"
         ],
         "y": [
          87.66683492063491,
          86.64509523809524,
          85.55782222222223,
          85.68125714285713,
          86.20741587301588,
          85.44178371735791,
          85.54047619047618,
          86.90106666666667,
          85.95666666666666,
          86.98533333333334,
          87.92704761904761,
          88.01133333333334,
          87.47146666666667,
          86.93133333333334,
          88.81866666666666,
          89.4,
          90.19466666666666,
          89.434,
          90.37266666666666,
          89.65173333333334,
          89.77795151515151,
          89.31666666666668,
          89.8236,
          90.066,
          89.81746666666666,
          88.664,
          89.43733333333333,
          89.232,
          89.18266666666668,
          89.13333333333334,
          88.03466666666665,
          88.84666666666668,
          87.676,
          88.17066666666666,
          88.128,
          87.256,
          87.456,
          87.57733333333334,
          87.4808,
          86.60293333333334,
          86.616,
          86.61760000000001,
          86.84,
          86.28933333333335,
          86.7057142857143,
          86.8488,
          86.6732,
          86.328
         ]
        },
        {
         "line": {
          "color": "royalblue",
          "width": 2
         },
         "name": "median",
         "type": "scatter",
         "x": [
          "heart_rate0",
          "heart_rate1",
          "heart_rate2",
          "heart_rate3",
          "heart_rate4",
          "heart_rate5",
          "heart_rate6",
          "heart_rate7",
          "heart_rate8",
          "heart_rate9",
          "heart_rate10",
          "heart_rate11",
          "heart_rate12",
          "heart_rate13",
          "heart_rate14",
          "heart_rate15",
          "heart_rate16",
          "heart_rate17",
          "heart_rate18",
          "heart_rate19",
          "heart_rate20",
          "heart_rate21",
          "heart_rate22",
          "heart_rate23",
          "heart_rate24",
          "heart_rate25",
          "heart_rate26",
          "heart_rate27",
          "heart_rate28",
          "heart_rate29",
          "heart_rate30",
          "heart_rate31",
          "heart_rate32",
          "heart_rate33",
          "heart_rate34",
          "heart_rate35",
          "heart_rate36",
          "heart_rate37",
          "heart_rate38",
          "heart_rate39",
          "heart_rate40",
          "heart_rate41",
          "heart_rate42",
          "heart_rate43",
          "heart_rate44",
          "heart_rate45",
          "heart_rate46",
          "heart_rate47"
         ],
         "y": [
          83.33333333333333,
          82,
          82,
          81.75,
          83,
          83,
          84,
          85,
          84,
          85,
          86,
          86,
          87,
          86,
          89,
          90,
          90,
          90,
          91,
          90,
          88,
          90,
          88.5,
          90,
          90,
          88,
          89,
          90,
          88,
          89,
          89,
          89,
          88,
          87,
          88,
          86,
          85,
          87,
          85,
          83,
          82.5,
          85,
          84,
          85,
          84,
          83,
          85,
          85
         ]
        }
       ],
       "layout": {
        "template": {
         "data": {
          "bar": [
           {
            "error_x": {
             "color": "#2a3f5f"
            },
            "error_y": {
             "color": "#2a3f5f"
            },
            "marker": {
             "line": {
              "color": "#E5ECF6",
              "width": 0.5
             }
            },
            "type": "bar"
           }
          ],
          "barpolar": [
           {
            "marker": {
             "line": {
              "color": "#E5ECF6",
              "width": 0.5
             }
            },
            "type": "barpolar"
           }
          ],
          "carpet": [
           {
            "aaxis": {
             "endlinecolor": "#2a3f5f",
             "gridcolor": "white",
             "linecolor": "white",
             "minorgridcolor": "white",
             "startlinecolor": "#2a3f5f"
            },
            "baxis": {
             "endlinecolor": "#2a3f5f",
             "gridcolor": "white",
             "linecolor": "white",
             "minorgridcolor": "white",
             "startlinecolor": "#2a3f5f"
            },
            "type": "carpet"
           }
          ],
          "choropleth": [
           {
            "colorbar": {
             "outlinewidth": 0,
             "ticks": ""
            },
            "type": "choropleth"
           }
          ],
          "contour": [
           {
            "colorbar": {
             "outlinewidth": 0,
             "ticks": ""
            },
            "colorscale": [
             [
              0,
              "#0d0887"
             ],
             [
              0.1111111111111111,
              "#46039f"
             ],
             [
              0.2222222222222222,
              "#7201a8"
             ],
             [
              0.3333333333333333,
              "#9c179e"
             ],
             [
              0.4444444444444444,
              "#bd3786"
             ],
             [
              0.5555555555555556,
              "#d8576b"
             ],
             [
              0.6666666666666666,
              "#ed7953"
             ],
             [
              0.7777777777777778,
              "#fb9f3a"
             ],
             [
              0.8888888888888888,
              "#fdca26"
             ],
             [
              1,
              "#f0f921"
             ]
            ],
            "type": "contour"
           }
          ],
          "contourcarpet": [
           {
            "colorbar": {
             "outlinewidth": 0,
             "ticks": ""
            },
            "type": "contourcarpet"
           }
          ],
          "heatmap": [
           {
            "colorbar": {
             "outlinewidth": 0,
             "ticks": ""
            },
            "colorscale": [
             [
              0,
              "#0d0887"
             ],
             [
              0.1111111111111111,
              "#46039f"
             ],
             [
              0.2222222222222222,
              "#7201a8"
             ],
             [
              0.3333333333333333,
              "#9c179e"
             ],
             [
              0.4444444444444444,
              "#bd3786"
             ],
             [
              0.5555555555555556,
              "#d8576b"
             ],
             [
              0.6666666666666666,
              "#ed7953"
             ],
             [
              0.7777777777777778,
              "#fb9f3a"
             ],
             [
              0.8888888888888888,
              "#fdca26"
             ],
             [
              1,
              "#f0f921"
             ]
            ],
            "type": "heatmap"
           }
          ],
          "heatmapgl": [
           {
            "colorbar": {
             "outlinewidth": 0,
             "ticks": ""
            },
            "colorscale": [
             [
              0,
              "#0d0887"
             ],
             [
              0.1111111111111111,
              "#46039f"
             ],
             [
              0.2222222222222222,
              "#7201a8"
             ],
             [
              0.3333333333333333,
              "#9c179e"
             ],
             [
              0.4444444444444444,
              "#bd3786"
             ],
             [
              0.5555555555555556,
              "#d8576b"
             ],
             [
              0.6666666666666666,
              "#ed7953"
             ],
             [
              0.7777777777777778,
              "#fb9f3a"
             ],
             [
              0.8888888888888888,
              "#fdca26"
             ],
             [
              1,
              "#f0f921"
             ]
            ],
            "type": "heatmapgl"
           }
          ],
          "histogram": [
           {
            "marker": {
             "colorbar": {
              "outlinewidth": 0,
              "ticks": ""
             }
            },
            "type": "histogram"
           }
          ],
          "histogram2d": [
           {
            "colorbar": {
             "outlinewidth": 0,
             "ticks": ""
            },
            "colorscale": [
             [
              0,
              "#0d0887"
             ],
             [
              0.1111111111111111,
              "#46039f"
             ],
             [
              0.2222222222222222,
              "#7201a8"
             ],
             [
              0.3333333333333333,
              "#9c179e"
             ],
             [
              0.4444444444444444,
              "#bd3786"
             ],
             [
              0.5555555555555556,
              "#d8576b"
             ],
             [
              0.6666666666666666,
              "#ed7953"
             ],
             [
              0.7777777777777778,
              "#fb9f3a"
             ],
             [
              0.8888888888888888,
              "#fdca26"
             ],
             [
              1,
              "#f0f921"
             ]
            ],
            "type": "histogram2d"
           }
          ],
          "histogram2dcontour": [
           {
            "colorbar": {
             "outlinewidth": 0,
             "ticks": ""
            },
            "colorscale": [
             [
              0,
              "#0d0887"
             ],
             [
              0.1111111111111111,
              "#46039f"
             ],
             [
              0.2222222222222222,
              "#7201a8"
             ],
             [
              0.3333333333333333,
              "#9c179e"
             ],
             [
              0.4444444444444444,
              "#bd3786"
             ],
             [
              0.5555555555555556,
              "#d8576b"
             ],
             [
              0.6666666666666666,
              "#ed7953"
             ],
             [
              0.7777777777777778,
              "#fb9f3a"
             ],
             [
              0.8888888888888888,
              "#fdca26"
             ],
             [
              1,
              "#f0f921"
             ]
            ],
            "type": "histogram2dcontour"
           }
          ],
          "mesh3d": [
           {
            "colorbar": {
             "outlinewidth": 0,
             "ticks": ""
            },
            "type": "mesh3d"
           }
          ],
          "parcoords": [
           {
            "line": {
             "colorbar": {
              "outlinewidth": 0,
              "ticks": ""
             }
            },
            "type": "parcoords"
           }
          ],
          "pie": [
           {
            "automargin": true,
            "type": "pie"
           }
          ],
          "scatter": [
           {
            "marker": {
             "colorbar": {
              "outlinewidth": 0,
              "ticks": ""
             }
            },
            "type": "scatter"
           }
          ],
          "scatter3d": [
           {
            "line": {
             "colorbar": {
              "outlinewidth": 0,
              "ticks": ""
             }
            },
            "marker": {
             "colorbar": {
              "outlinewidth": 0,
              "ticks": ""
             }
            },
            "type": "scatter3d"
           }
          ],
          "scattercarpet": [
           {
            "marker": {
             "colorbar": {
              "outlinewidth": 0,
              "ticks": ""
             }
            },
            "type": "scattercarpet"
           }
          ],
          "scattergeo": [
           {
            "marker": {
             "colorbar": {
              "outlinewidth": 0,
              "ticks": ""
             }
            },
            "type": "scattergeo"
           }
          ],
          "scattergl": [
           {
            "marker": {
             "colorbar": {
              "outlinewidth": 0,
              "ticks": ""
             }
            },
            "type": "scattergl"
           }
          ],
          "scattermapbox": [
           {
            "marker": {
             "colorbar": {
              "outlinewidth": 0,
              "ticks": ""
             }
            },
            "type": "scattermapbox"
           }
          ],
          "scatterpolar": [
           {
            "marker": {
             "colorbar": {
              "outlinewidth": 0,
              "ticks": ""
             }
            },
            "type": "scatterpolar"
           }
          ],
          "scatterpolargl": [
           {
            "marker": {
             "colorbar": {
              "outlinewidth": 0,
              "ticks": ""
             }
            },
            "type": "scatterpolargl"
           }
          ],
          "scatterternary": [
           {
            "marker": {
             "colorbar": {
              "outlinewidth": 0,
              "ticks": ""
             }
            },
            "type": "scatterternary"
           }
          ],
          "surface": [
           {
            "colorbar": {
             "outlinewidth": 0,
             "ticks": ""
            },
            "colorscale": [
             [
              0,
              "#0d0887"
             ],
             [
              0.1111111111111111,
              "#46039f"
             ],
             [
              0.2222222222222222,
              "#7201a8"
             ],
             [
              0.3333333333333333,
              "#9c179e"
             ],
             [
              0.4444444444444444,
              "#bd3786"
             ],
             [
              0.5555555555555556,
              "#d8576b"
             ],
             [
              0.6666666666666666,
              "#ed7953"
             ],
             [
              0.7777777777777778,
              "#fb9f3a"
             ],
             [
              0.8888888888888888,
              "#fdca26"
             ],
             [
              1,
              "#f0f921"
             ]
            ],
            "type": "surface"
           }
          ],
          "table": [
           {
            "cells": {
             "fill": {
              "color": "#EBF0F8"
             },
             "line": {
              "color": "white"
             }
            },
            "header": {
             "fill": {
              "color": "#C8D4E3"
             },
             "line": {
              "color": "white"
             }
            },
            "type": "table"
           }
          ]
         },
         "layout": {
          "annotationdefaults": {
           "arrowcolor": "#2a3f5f",
           "arrowhead": 0,
           "arrowwidth": 1
          },
          "autotypenumbers": "strict",
          "coloraxis": {
           "colorbar": {
            "outlinewidth": 0,
            "ticks": ""
           }
          },
          "colorscale": {
           "diverging": [
            [
             0,
             "#8e0152"
            ],
            [
             0.1,
             "#c51b7d"
            ],
            [
             0.2,
             "#de77ae"
            ],
            [
             0.3,
             "#f1b6da"
            ],
            [
             0.4,
             "#fde0ef"
            ],
            [
             0.5,
             "#f7f7f7"
            ],
            [
             0.6,
             "#e6f5d0"
            ],
            [
             0.7,
             "#b8e186"
            ],
            [
             0.8,
             "#7fbc41"
            ],
            [
             0.9,
             "#4d9221"
            ],
            [
             1,
             "#276419"
            ]
           ],
           "sequential": [
            [
             0,
             "#0d0887"
            ],
            [
             0.1111111111111111,
             "#46039f"
            ],
            [
             0.2222222222222222,
             "#7201a8"
            ],
            [
             0.3333333333333333,
             "#9c179e"
            ],
            [
             0.4444444444444444,
             "#bd3786"
            ],
            [
             0.5555555555555556,
             "#d8576b"
            ],
            [
             0.6666666666666666,
             "#ed7953"
            ],
            [
             0.7777777777777778,
             "#fb9f3a"
            ],
            [
             0.8888888888888888,
             "#fdca26"
            ],
            [
             1,
             "#f0f921"
            ]
           ],
           "sequentialminus": [
            [
             0,
             "#0d0887"
            ],
            [
             0.1111111111111111,
             "#46039f"
            ],
            [
             0.2222222222222222,
             "#7201a8"
            ],
            [
             0.3333333333333333,
             "#9c179e"
            ],
            [
             0.4444444444444444,
             "#bd3786"
            ],
            [
             0.5555555555555556,
             "#d8576b"
            ],
            [
             0.6666666666666666,
             "#ed7953"
            ],
            [
             0.7777777777777778,
             "#fb9f3a"
            ],
            [
             0.8888888888888888,
             "#fdca26"
            ],
            [
             1,
             "#f0f921"
            ]
           ]
          },
          "colorway": [
           "#636efa",
           "#EF553B",
           "#00cc96",
           "#ab63fa",
           "#FFA15A",
           "#19d3f3",
           "#FF6692",
           "#B6E880",
           "#FF97FF",
           "#FECB52"
          ],
          "font": {
           "color": "#2a3f5f"
          },
          "geo": {
           "bgcolor": "white",
           "lakecolor": "white",
           "landcolor": "#E5ECF6",
           "showlakes": true,
           "showland": true,
           "subunitcolor": "white"
          },
          "hoverlabel": {
           "align": "left"
          },
          "hovermode": "closest",
          "mapbox": {
           "style": "light"
          },
          "paper_bgcolor": "white",
          "plot_bgcolor": "#E5ECF6",
          "polar": {
           "angularaxis": {
            "gridcolor": "white",
            "linecolor": "white",
            "ticks": ""
           },
           "bgcolor": "#E5ECF6",
           "radialaxis": {
            "gridcolor": "white",
            "linecolor": "white",
            "ticks": ""
           }
          },
          "scene": {
           "xaxis": {
            "backgroundcolor": "#E5ECF6",
            "gridcolor": "white",
            "gridwidth": 2,
            "linecolor": "white",
            "showbackground": true,
            "ticks": "",
            "zerolinecolor": "white"
           },
           "yaxis": {
            "backgroundcolor": "#E5ECF6",
            "gridcolor": "white",
            "gridwidth": 2,
            "linecolor": "white",
            "showbackground": true,
            "ticks": "",
            "zerolinecolor": "white"
           },
           "zaxis": {
            "backgroundcolor": "#E5ECF6",
            "gridcolor": "white",
            "gridwidth": 2,
            "linecolor": "white",
            "showbackground": true,
            "ticks": "",
            "zerolinecolor": "white"
           }
          },
          "shapedefaults": {
           "line": {
            "color": "#2a3f5f"
           }
          },
          "ternary": {
           "aaxis": {
            "gridcolor": "white",
            "linecolor": "white",
            "ticks": ""
           },
           "baxis": {
            "gridcolor": "white",
            "linecolor": "white",
            "ticks": ""
           },
           "bgcolor": "#E5ECF6",
           "caxis": {
            "gridcolor": "white",
            "linecolor": "white",
            "ticks": ""
           }
          },
          "title": {
           "x": 0.05
          },
          "xaxis": {
           "automargin": true,
           "gridcolor": "white",
           "linecolor": "white",
           "ticks": "",
           "title": {
            "standoff": 15
           },
           "zerolinecolor": "white",
           "zerolinewidth": 2
          },
          "yaxis": {
           "automargin": true,
           "gridcolor": "white",
           "linecolor": "white",
           "ticks": "",
           "title": {
            "standoff": 15
           },
           "zerolinecolor": "white",
           "zerolinewidth": 2
          }
         }
        },
        "xaxis": {
         "title": {
          "text": "Time"
         }
        },
        "yaxis": {
         "title": {
          "text": "heart_rate"
         }
        }
       }
      }
     },
     "metadata": {},
     "output_type": "display_data"
    }
   ],
   "source": [
    "sample_plot(df_umap_2, df_umap_2_describe, 5, 'heart_rate', 'heart_rate')"
   ]
  },
  {
   "cell_type": "code",
   "execution_count": 8,
   "metadata": {},
   "outputs": [],
   "source": [
    "def find_mean_median(df, features):\n",
    "    mean_df = df.loc[['mean'], df.columns.to_series().str.contains(features)]\n",
    "    median_df = df.loc[['50%'], df.columns.to_series().str.contains(features)]\n",
    "    mean_Transpose = mean_df.transpose()\n",
    "    median_Transpose = median_df.transpose()\n",
    "    mean_median_Transpose = pd.merge(mean_Transpose, median_Transpose, left_index=True, right_index=True)\n",
    "    mean_median_Transpose.columns = ['mean', 'median']\n",
    "    return mean_median_Transpose\n",
    "\n",
    "def plot_feature_label(features, label1, label2, label3, y_label, stat='mean'):\n",
    "    mean_median_1 = find_mean_median(label1, features)\n",
    "    mean_median_2 = find_mean_median(label2, features)\n",
    "    mean_median_3 = find_mean_median(label3, features)\n",
    "    ## plot mean for different labels\n",
    "    if stat == 'mean':\n",
    "        fig = go.Figure()\n",
    "        fig.add_trace(go.Scatter(x=mean_median_1.index, y=mean_median_1['mean'], name = 'label 1' , line=dict(color='firebrick', width=2)))\n",
    "        fig.add_trace(go.Scatter(x=mean_median_2.index, y=mean_median_2['mean'], name = 'label 2' ,line=dict(color='royalblue', width=2)))\n",
    "        fig.add_trace(go.Scatter(x=mean_median_3.index, y=mean_median_3['mean'], name = 'label 3' ,line=dict(color='green', width=2)))\n",
    "        fig.update_layout(xaxis_title='Time', yaxis_title=y_label, title=y_label+'_mean')\n",
    "        fig.show()\n",
    "    ## plot median for different labels\n",
    "    elif stat == 'median':\n",
    "        fig = go.Figure()\n",
    "        fig.add_trace(go.Scatter(x=mean_median_1.index, y=mean_median_1['median'], name = 'label 1' ,line=dict(color='firebrick', width=2)))\n",
    "        fig.add_trace(go.Scatter(x=mean_median_2.index, y=mean_median_2['median'], name = 'label 2' ,line=dict(color='royalblue', width=2)))\n",
    "        fig.add_trace(go.Scatter(x=mean_median_3.index, y=mean_median_3['median'], name = 'label 3' ,line=dict(color='green', width=2)))\n",
    "        fig.update_layout(xaxis_title='Time', yaxis_title=y_label, title=y_label+'_median')\n",
    "        fig.show()\n"
   ]
  },
  {
   "cell_type": "code",
   "execution_count": 9,
   "metadata": {},
   "outputs": [
    {
     "data": {
      "application/vnd.plotly.v1+json": {
       "config": {
        "plotlyServerURL": "https://plot.ly"
       },
       "data": [
        {
         "line": {
          "color": "firebrick",
          "width": 2
         },
         "name": "label 1",
         "type": "scatter",
         "x": [
          "respiratory_rate0",
          "respiratory_rate1",
          "respiratory_rate2",
          "respiratory_rate3",
          "respiratory_rate4",
          "respiratory_rate5",
          "respiratory_rate6",
          "respiratory_rate7",
          "respiratory_rate8",
          "respiratory_rate9",
          "respiratory_rate10",
          "respiratory_rate11",
          "respiratory_rate12",
          "respiratory_rate13",
          "respiratory_rate14",
          "respiratory_rate15",
          "respiratory_rate16",
          "respiratory_rate17",
          "respiratory_rate18",
          "respiratory_rate19",
          "respiratory_rate20",
          "respiratory_rate21",
          "respiratory_rate22",
          "respiratory_rate23",
          "respiratory_rate24",
          "respiratory_rate25",
          "respiratory_rate26",
          "respiratory_rate27",
          "respiratory_rate28",
          "respiratory_rate29",
          "respiratory_rate30",
          "respiratory_rate31",
          "respiratory_rate32",
          "respiratory_rate33",
          "respiratory_rate34",
          "respiratory_rate35",
          "respiratory_rate36",
          "respiratory_rate37",
          "respiratory_rate38",
          "respiratory_rate39",
          "respiratory_rate40",
          "respiratory_rate41",
          "respiratory_rate42",
          "respiratory_rate43",
          "respiratory_rate44",
          "respiratory_rate45",
          "respiratory_rate46",
          "respiratory_rate47"
         ],
         "y": [
          18.78425471306546,
          18.74470647660771,
          183.0225947869291,
          19.002497214889704,
          19.090847826917976,
          19.134024955225737,
          19.209489754234486,
          19.373869286658913,
          19.349419284441357,
          19.307560875074415,
          19.416167675523976,
          19.44636065287216,
          19.410864660424412,
          19.51685503459693,
          19.484338464591605,
          19.498721282166567,
          19.469862397847294,
          19.579834358508602,
          19.515004085313205,
          19.61769828826438,
          19.70524896459924,
          19.79904448210757,
          19.81966031954787,
          19.82795060073704,
          19.702959562308912,
          19.701532270216223,
          19.75334455819961,
          19.682167211322643,
          19.59780662264938,
          19.66918018438402,
          19.639393544124932,
          19.608290013502316,
          19.571289492260277,
          19.593001443558872,
          19.5087144475024,
          19.631767655945136,
          19.662593258651633,
          19.535093841809253,
          19.529531976270082,
          19.530776687225604,
          19.549414032759998,
          19.62431146886272,
          19.692715539332283,
          19.648562919977756,
          19.725927387096103,
          19.760669481255544,
          19.797417570527262,
          19.824096447574405
         ]
        },
        {
         "line": {
          "color": "royalblue",
          "width": 2
         },
         "name": "label 2",
         "type": "scatter",
         "x": [
          "respiratory_rate0",
          "respiratory_rate1",
          "respiratory_rate2",
          "respiratory_rate3",
          "respiratory_rate4",
          "respiratory_rate5",
          "respiratory_rate6",
          "respiratory_rate7",
          "respiratory_rate8",
          "respiratory_rate9",
          "respiratory_rate10",
          "respiratory_rate11",
          "respiratory_rate12",
          "respiratory_rate13",
          "respiratory_rate14",
          "respiratory_rate15",
          "respiratory_rate16",
          "respiratory_rate17",
          "respiratory_rate18",
          "respiratory_rate19",
          "respiratory_rate20",
          "respiratory_rate21",
          "respiratory_rate22",
          "respiratory_rate23",
          "respiratory_rate24",
          "respiratory_rate25",
          "respiratory_rate26",
          "respiratory_rate27",
          "respiratory_rate28",
          "respiratory_rate29",
          "respiratory_rate30",
          "respiratory_rate31",
          "respiratory_rate32",
          "respiratory_rate33",
          "respiratory_rate34",
          "respiratory_rate35",
          "respiratory_rate36",
          "respiratory_rate37",
          "respiratory_rate38",
          "respiratory_rate39",
          "respiratory_rate40",
          "respiratory_rate41",
          "respiratory_rate42",
          "respiratory_rate43",
          "respiratory_rate44",
          "respiratory_rate45",
          "respiratory_rate46",
          "respiratory_rate47"
         ],
         "y": [
          16.50002222222222,
          16.36506349206349,
          16.72623492063492,
          17.006533333333334,
          17.120819047619047,
          17.30449523809524,
          17.34339047619048,
          17.802,
          18.268866666666664,
          18.269504761904763,
          18.485333333333333,
          18.426,
          18.403733333333335,
          18.30333333333333,
          19.038666666666668,
          18.946,
          19.184800000000003,
          19.478,
          19.522,
          19.22853333333333,
          19.501054545454547,
          19.839,
          19.989333333333335,
          19.854,
          19.681600000000003,
          19.895714285714288,
          19.576,
          19.506,
          19.87333333333333,
          19.63,
          19.433333333333334,
          19.827333333333335,
          19.628,
          19.633333333333336,
          19.424,
          18.688666666666663,
          18.9,
          18.964,
          19.281200000000002,
          19.576933333333333,
          19.182666666666663,
          18.8168,
          19.412,
          20.26,
          19.772,
          19.388,
          19.693066666666667,
          20.23
         ]
        },
        {
         "line": {
          "color": "green",
          "width": 2
         },
         "name": "label 3",
         "type": "scatter",
         "x": [
          "respiratory_rate0",
          "respiratory_rate1",
          "respiratory_rate2",
          "respiratory_rate3",
          "respiratory_rate4",
          "respiratory_rate5",
          "respiratory_rate6",
          "respiratory_rate7",
          "respiratory_rate8",
          "respiratory_rate9",
          "respiratory_rate10",
          "respiratory_rate11",
          "respiratory_rate12",
          "respiratory_rate13",
          "respiratory_rate14",
          "respiratory_rate15",
          "respiratory_rate16",
          "respiratory_rate17",
          "respiratory_rate18",
          "respiratory_rate19",
          "respiratory_rate20",
          "respiratory_rate21",
          "respiratory_rate22",
          "respiratory_rate23",
          "respiratory_rate24",
          "respiratory_rate25",
          "respiratory_rate26",
          "respiratory_rate27",
          "respiratory_rate28",
          "respiratory_rate29",
          "respiratory_rate30",
          "respiratory_rate31",
          "respiratory_rate32",
          "respiratory_rate33",
          "respiratory_rate34",
          "respiratory_rate35",
          "respiratory_rate36",
          "respiratory_rate37",
          "respiratory_rate38",
          "respiratory_rate39",
          "respiratory_rate40",
          "respiratory_rate41",
          "respiratory_rate42",
          "respiratory_rate43",
          "respiratory_rate44",
          "respiratory_rate45",
          "respiratory_rate46",
          "respiratory_rate47"
         ],
         "y": [
          19.176709996181167,
          19.177864130897643,
          19.145278316145976,
          19.114832160284873,
          19.140581363042298,
          19.146436773679444,
          19.073233329621903,
          19.028781823078532,
          19.046110992245644,
          18.940843787861155,
          18.976847778833793,
          18.879345841558262,
          18.90345377892131,
          18.9144647462238,
          18.936214462267692,
          19.031799930073312,
          19.037152774877804,
          19.033916104515644,
          19.027216181677087,
          19.161140283336582,
          19.15695722887546,
          19.352390521858894,
          19.22551986892055,
          19.18208493235278,
          19.238391076461347,
          19.171839601769253,
          19.302647047503434,
          19.102870763241057,
          18.93112492706792,
          18.933671322167676,
          18.982187204918063,
          19.02696778226358,
          18.88905314293078,
          18.75726251626089,
          18.92196410659891,
          18.86237468937533,
          18.927405441903396,
          18.78567494557676,
          18.90452191267917,
          18.884149269893676,
          18.97443905822846,
          18.94966618353542,
          18.9735348750566,
          19.202171182803117,
          19.106550186594465,
          19.019889945440564,
          19.210231939864777,
          19.119498096414983
         ]
        }
       ],
       "layout": {
        "template": {
         "data": {
          "bar": [
           {
            "error_x": {
             "color": "#2a3f5f"
            },
            "error_y": {
             "color": "#2a3f5f"
            },
            "marker": {
             "line": {
              "color": "#E5ECF6",
              "width": 0.5
             }
            },
            "type": "bar"
           }
          ],
          "barpolar": [
           {
            "marker": {
             "line": {
              "color": "#E5ECF6",
              "width": 0.5
             }
            },
            "type": "barpolar"
           }
          ],
          "carpet": [
           {
            "aaxis": {
             "endlinecolor": "#2a3f5f",
             "gridcolor": "white",
             "linecolor": "white",
             "minorgridcolor": "white",
             "startlinecolor": "#2a3f5f"
            },
            "baxis": {
             "endlinecolor": "#2a3f5f",
             "gridcolor": "white",
             "linecolor": "white",
             "minorgridcolor": "white",
             "startlinecolor": "#2a3f5f"
            },
            "type": "carpet"
           }
          ],
          "choropleth": [
           {
            "colorbar": {
             "outlinewidth": 0,
             "ticks": ""
            },
            "type": "choropleth"
           }
          ],
          "contour": [
           {
            "colorbar": {
             "outlinewidth": 0,
             "ticks": ""
            },
            "colorscale": [
             [
              0,
              "#0d0887"
             ],
             [
              0.1111111111111111,
              "#46039f"
             ],
             [
              0.2222222222222222,
              "#7201a8"
             ],
             [
              0.3333333333333333,
              "#9c179e"
             ],
             [
              0.4444444444444444,
              "#bd3786"
             ],
             [
              0.5555555555555556,
              "#d8576b"
             ],
             [
              0.6666666666666666,
              "#ed7953"
             ],
             [
              0.7777777777777778,
              "#fb9f3a"
             ],
             [
              0.8888888888888888,
              "#fdca26"
             ],
             [
              1,
              "#f0f921"
             ]
            ],
            "type": "contour"
           }
          ],
          "contourcarpet": [
           {
            "colorbar": {
             "outlinewidth": 0,
             "ticks": ""
            },
            "type": "contourcarpet"
           }
          ],
          "heatmap": [
           {
            "colorbar": {
             "outlinewidth": 0,
             "ticks": ""
            },
            "colorscale": [
             [
              0,
              "#0d0887"
             ],
             [
              0.1111111111111111,
              "#46039f"
             ],
             [
              0.2222222222222222,
              "#7201a8"
             ],
             [
              0.3333333333333333,
              "#9c179e"
             ],
             [
              0.4444444444444444,
              "#bd3786"
             ],
             [
              0.5555555555555556,
              "#d8576b"
             ],
             [
              0.6666666666666666,
              "#ed7953"
             ],
             [
              0.7777777777777778,
              "#fb9f3a"
             ],
             [
              0.8888888888888888,
              "#fdca26"
             ],
             [
              1,
              "#f0f921"
             ]
            ],
            "type": "heatmap"
           }
          ],
          "heatmapgl": [
           {
            "colorbar": {
             "outlinewidth": 0,
             "ticks": ""
            },
            "colorscale": [
             [
              0,
              "#0d0887"
             ],
             [
              0.1111111111111111,
              "#46039f"
             ],
             [
              0.2222222222222222,
              "#7201a8"
             ],
             [
              0.3333333333333333,
              "#9c179e"
             ],
             [
              0.4444444444444444,
              "#bd3786"
             ],
             [
              0.5555555555555556,
              "#d8576b"
             ],
             [
              0.6666666666666666,
              "#ed7953"
             ],
             [
              0.7777777777777778,
              "#fb9f3a"
             ],
             [
              0.8888888888888888,
              "#fdca26"
             ],
             [
              1,
              "#f0f921"
             ]
            ],
            "type": "heatmapgl"
           }
          ],
          "histogram": [
           {
            "marker": {
             "colorbar": {
              "outlinewidth": 0,
              "ticks": ""
             }
            },
            "type": "histogram"
           }
          ],
          "histogram2d": [
           {
            "colorbar": {
             "outlinewidth": 0,
             "ticks": ""
            },
            "colorscale": [
             [
              0,
              "#0d0887"
             ],
             [
              0.1111111111111111,
              "#46039f"
             ],
             [
              0.2222222222222222,
              "#7201a8"
             ],
             [
              0.3333333333333333,
              "#9c179e"
             ],
             [
              0.4444444444444444,
              "#bd3786"
             ],
             [
              0.5555555555555556,
              "#d8576b"
             ],
             [
              0.6666666666666666,
              "#ed7953"
             ],
             [
              0.7777777777777778,
              "#fb9f3a"
             ],
             [
              0.8888888888888888,
              "#fdca26"
             ],
             [
              1,
              "#f0f921"
             ]
            ],
            "type": "histogram2d"
           }
          ],
          "histogram2dcontour": [
           {
            "colorbar": {
             "outlinewidth": 0,
             "ticks": ""
            },
            "colorscale": [
             [
              0,
              "#0d0887"
             ],
             [
              0.1111111111111111,
              "#46039f"
             ],
             [
              0.2222222222222222,
              "#7201a8"
             ],
             [
              0.3333333333333333,
              "#9c179e"
             ],
             [
              0.4444444444444444,
              "#bd3786"
             ],
             [
              0.5555555555555556,
              "#d8576b"
             ],
             [
              0.6666666666666666,
              "#ed7953"
             ],
             [
              0.7777777777777778,
              "#fb9f3a"
             ],
             [
              0.8888888888888888,
              "#fdca26"
             ],
             [
              1,
              "#f0f921"
             ]
            ],
            "type": "histogram2dcontour"
           }
          ],
          "mesh3d": [
           {
            "colorbar": {
             "outlinewidth": 0,
             "ticks": ""
            },
            "type": "mesh3d"
           }
          ],
          "parcoords": [
           {
            "line": {
             "colorbar": {
              "outlinewidth": 0,
              "ticks": ""
             }
            },
            "type": "parcoords"
           }
          ],
          "pie": [
           {
            "automargin": true,
            "type": "pie"
           }
          ],
          "scatter": [
           {
            "marker": {
             "colorbar": {
              "outlinewidth": 0,
              "ticks": ""
             }
            },
            "type": "scatter"
           }
          ],
          "scatter3d": [
           {
            "line": {
             "colorbar": {
              "outlinewidth": 0,
              "ticks": ""
             }
            },
            "marker": {
             "colorbar": {
              "outlinewidth": 0,
              "ticks": ""
             }
            },
            "type": "scatter3d"
           }
          ],
          "scattercarpet": [
           {
            "marker": {
             "colorbar": {
              "outlinewidth": 0,
              "ticks": ""
             }
            },
            "type": "scattercarpet"
           }
          ],
          "scattergeo": [
           {
            "marker": {
             "colorbar": {
              "outlinewidth": 0,
              "ticks": ""
             }
            },
            "type": "scattergeo"
           }
          ],
          "scattergl": [
           {
            "marker": {
             "colorbar": {
              "outlinewidth": 0,
              "ticks": ""
             }
            },
            "type": "scattergl"
           }
          ],
          "scattermapbox": [
           {
            "marker": {
             "colorbar": {
              "outlinewidth": 0,
              "ticks": ""
             }
            },
            "type": "scattermapbox"
           }
          ],
          "scatterpolar": [
           {
            "marker": {
             "colorbar": {
              "outlinewidth": 0,
              "ticks": ""
             }
            },
            "type": "scatterpolar"
           }
          ],
          "scatterpolargl": [
           {
            "marker": {
             "colorbar": {
              "outlinewidth": 0,
              "ticks": ""
             }
            },
            "type": "scatterpolargl"
           }
          ],
          "scatterternary": [
           {
            "marker": {
             "colorbar": {
              "outlinewidth": 0,
              "ticks": ""
             }
            },
            "type": "scatterternary"
           }
          ],
          "surface": [
           {
            "colorbar": {
             "outlinewidth": 0,
             "ticks": ""
            },
            "colorscale": [
             [
              0,
              "#0d0887"
             ],
             [
              0.1111111111111111,
              "#46039f"
             ],
             [
              0.2222222222222222,
              "#7201a8"
             ],
             [
              0.3333333333333333,
              "#9c179e"
             ],
             [
              0.4444444444444444,
              "#bd3786"
             ],
             [
              0.5555555555555556,
              "#d8576b"
             ],
             [
              0.6666666666666666,
              "#ed7953"
             ],
             [
              0.7777777777777778,
              "#fb9f3a"
             ],
             [
              0.8888888888888888,
              "#fdca26"
             ],
             [
              1,
              "#f0f921"
             ]
            ],
            "type": "surface"
           }
          ],
          "table": [
           {
            "cells": {
             "fill": {
              "color": "#EBF0F8"
             },
             "line": {
              "color": "white"
             }
            },
            "header": {
             "fill": {
              "color": "#C8D4E3"
             },
             "line": {
              "color": "white"
             }
            },
            "type": "table"
           }
          ]
         },
         "layout": {
          "annotationdefaults": {
           "arrowcolor": "#2a3f5f",
           "arrowhead": 0,
           "arrowwidth": 1
          },
          "autotypenumbers": "strict",
          "coloraxis": {
           "colorbar": {
            "outlinewidth": 0,
            "ticks": ""
           }
          },
          "colorscale": {
           "diverging": [
            [
             0,
             "#8e0152"
            ],
            [
             0.1,
             "#c51b7d"
            ],
            [
             0.2,
             "#de77ae"
            ],
            [
             0.3,
             "#f1b6da"
            ],
            [
             0.4,
             "#fde0ef"
            ],
            [
             0.5,
             "#f7f7f7"
            ],
            [
             0.6,
             "#e6f5d0"
            ],
            [
             0.7,
             "#b8e186"
            ],
            [
             0.8,
             "#7fbc41"
            ],
            [
             0.9,
             "#4d9221"
            ],
            [
             1,
             "#276419"
            ]
           ],
           "sequential": [
            [
             0,
             "#0d0887"
            ],
            [
             0.1111111111111111,
             "#46039f"
            ],
            [
             0.2222222222222222,
             "#7201a8"
            ],
            [
             0.3333333333333333,
             "#9c179e"
            ],
            [
             0.4444444444444444,
             "#bd3786"
            ],
            [
             0.5555555555555556,
             "#d8576b"
            ],
            [
             0.6666666666666666,
             "#ed7953"
            ],
            [
             0.7777777777777778,
             "#fb9f3a"
            ],
            [
             0.8888888888888888,
             "#fdca26"
            ],
            [
             1,
             "#f0f921"
            ]
           ],
           "sequentialminus": [
            [
             0,
             "#0d0887"
            ],
            [
             0.1111111111111111,
             "#46039f"
            ],
            [
             0.2222222222222222,
             "#7201a8"
            ],
            [
             0.3333333333333333,
             "#9c179e"
            ],
            [
             0.4444444444444444,
             "#bd3786"
            ],
            [
             0.5555555555555556,
             "#d8576b"
            ],
            [
             0.6666666666666666,
             "#ed7953"
            ],
            [
             0.7777777777777778,
             "#fb9f3a"
            ],
            [
             0.8888888888888888,
             "#fdca26"
            ],
            [
             1,
             "#f0f921"
            ]
           ]
          },
          "colorway": [
           "#636efa",
           "#EF553B",
           "#00cc96",
           "#ab63fa",
           "#FFA15A",
           "#19d3f3",
           "#FF6692",
           "#B6E880",
           "#FF97FF",
           "#FECB52"
          ],
          "font": {
           "color": "#2a3f5f"
          },
          "geo": {
           "bgcolor": "white",
           "lakecolor": "white",
           "landcolor": "#E5ECF6",
           "showlakes": true,
           "showland": true,
           "subunitcolor": "white"
          },
          "hoverlabel": {
           "align": "left"
          },
          "hovermode": "closest",
          "mapbox": {
           "style": "light"
          },
          "paper_bgcolor": "white",
          "plot_bgcolor": "#E5ECF6",
          "polar": {
           "angularaxis": {
            "gridcolor": "white",
            "linecolor": "white",
            "ticks": ""
           },
           "bgcolor": "#E5ECF6",
           "radialaxis": {
            "gridcolor": "white",
            "linecolor": "white",
            "ticks": ""
           }
          },
          "scene": {
           "xaxis": {
            "backgroundcolor": "#E5ECF6",
            "gridcolor": "white",
            "gridwidth": 2,
            "linecolor": "white",
            "showbackground": true,
            "ticks": "",
            "zerolinecolor": "white"
           },
           "yaxis": {
            "backgroundcolor": "#E5ECF6",
            "gridcolor": "white",
            "gridwidth": 2,
            "linecolor": "white",
            "showbackground": true,
            "ticks": "",
            "zerolinecolor": "white"
           },
           "zaxis": {
            "backgroundcolor": "#E5ECF6",
            "gridcolor": "white",
            "gridwidth": 2,
            "linecolor": "white",
            "showbackground": true,
            "ticks": "",
            "zerolinecolor": "white"
           }
          },
          "shapedefaults": {
           "line": {
            "color": "#2a3f5f"
           }
          },
          "ternary": {
           "aaxis": {
            "gridcolor": "white",
            "linecolor": "white",
            "ticks": ""
           },
           "baxis": {
            "gridcolor": "white",
            "linecolor": "white",
            "ticks": ""
           },
           "bgcolor": "#E5ECF6",
           "caxis": {
            "gridcolor": "white",
            "linecolor": "white",
            "ticks": ""
           }
          },
          "title": {
           "x": 0.05
          },
          "xaxis": {
           "automargin": true,
           "gridcolor": "white",
           "linecolor": "white",
           "ticks": "",
           "title": {
            "standoff": 15
           },
           "zerolinecolor": "white",
           "zerolinewidth": 2
          },
          "yaxis": {
           "automargin": true,
           "gridcolor": "white",
           "linecolor": "white",
           "ticks": "",
           "title": {
            "standoff": 15
           },
           "zerolinecolor": "white",
           "zerolinewidth": 2
          }
         }
        },
        "title": {
         "text": "respiratory_rate_mean"
        },
        "xaxis": {
         "title": {
          "text": "Time"
         }
        },
        "yaxis": {
         "title": {
          "text": "respiratory_rate"
         }
        }
       }
      }
     },
     "metadata": {},
     "output_type": "display_data"
    }
   ],
   "source": [
    "plot_feature_label('respiratory_rate', df_umap_1_describe, df_umap_2_describe, df_umap_3_describe, 'respiratory_rate', 'mean')"
   ]
  },
  {
   "cell_type": "code",
   "execution_count": 14,
   "metadata": {},
   "outputs": [
    {
     "data": {
      "application/vnd.plotly.v1+json": {
       "config": {
        "plotlyServerURL": "https://plot.ly"
       },
       "data": [
        {
         "line": {
          "color": "firebrick",
          "width": 2
         },
         "name": "label_1",
         "type": "scatter",
         "x": [
          "heart_rate0",
          "heart_rate1",
          "heart_rate2",
          "heart_rate3",
          "heart_rate4",
          "heart_rate5",
          "heart_rate6",
          "heart_rate7",
          "heart_rate8",
          "heart_rate9",
          "heart_rate10",
          "heart_rate11",
          "heart_rate12",
          "heart_rate13",
          "heart_rate14",
          "heart_rate15",
          "heart_rate16",
          "heart_rate17",
          "heart_rate18",
          "heart_rate19",
          "heart_rate20",
          "heart_rate21",
          "heart_rate22",
          "heart_rate23",
          "heart_rate24",
          "heart_rate25",
          "heart_rate26",
          "heart_rate27",
          "heart_rate28",
          "heart_rate29",
          "heart_rate30",
          "heart_rate31",
          "heart_rate32",
          "heart_rate33",
          "heart_rate34",
          "heart_rate35",
          "heart_rate36",
          "heart_rate37",
          "heart_rate38",
          "heart_rate39",
          "heart_rate40",
          "heart_rate41",
          "heart_rate42",
          "heart_rate43",
          "heart_rate44",
          "heart_rate45",
          "heart_rate46",
          "heart_rate47"
         ],
         "y": [
          88,
          87.5,
          87,
          86,
          86,
          86,
          86,
          86,
          86,
          86,
          86,
          86,
          86,
          86,
          86,
          86,
          86,
          86,
          86,
          86,
          86,
          86,
          86,
          86,
          86,
          86,
          86,
          86,
          86,
          86,
          86,
          86,
          86,
          86,
          86,
          86,
          86,
          86,
          86,
          86,
          86,
          87,
          86,
          86,
          86,
          86,
          86,
          86
         ]
        },
        {
         "line": {
          "color": "royalblue",
          "width": 2
         },
         "name": "label_2",
         "type": "scatter",
         "x": [
          "heart_rate0",
          "heart_rate1",
          "heart_rate2",
          "heart_rate3",
          "heart_rate4",
          "heart_rate5",
          "heart_rate6",
          "heart_rate7",
          "heart_rate8",
          "heart_rate9",
          "heart_rate10",
          "heart_rate11",
          "heart_rate12",
          "heart_rate13",
          "heart_rate14",
          "heart_rate15",
          "heart_rate16",
          "heart_rate17",
          "heart_rate18",
          "heart_rate19",
          "heart_rate20",
          "heart_rate21",
          "heart_rate22",
          "heart_rate23",
          "heart_rate24",
          "heart_rate25",
          "heart_rate26",
          "heart_rate27",
          "heart_rate28",
          "heart_rate29",
          "heart_rate30",
          "heart_rate31",
          "heart_rate32",
          "heart_rate33",
          "heart_rate34",
          "heart_rate35",
          "heart_rate36",
          "heart_rate37",
          "heart_rate38",
          "heart_rate39",
          "heart_rate40",
          "heart_rate41",
          "heart_rate42",
          "heart_rate43",
          "heart_rate44",
          "heart_rate45",
          "heart_rate46",
          "heart_rate47"
         ],
         "y": [
          83.33333333333333,
          82,
          82,
          81.75,
          83,
          83,
          84,
          85,
          84,
          85,
          86,
          86,
          87,
          86,
          89,
          90,
          90,
          90,
          91,
          90,
          88,
          90,
          88.5,
          90,
          90,
          88,
          89,
          90,
          88,
          89,
          89,
          89,
          88,
          87,
          88,
          86,
          85,
          87,
          85,
          83,
          82.5,
          85,
          84,
          85,
          84,
          83,
          85,
          85
         ]
        },
        {
         "line": {
          "color": "green",
          "width": 2
         },
         "name": "label_3",
         "type": "scatter",
         "x": [
          "heart_rate0",
          "heart_rate1",
          "heart_rate2",
          "heart_rate3",
          "heart_rate4",
          "heart_rate5",
          "heart_rate6",
          "heart_rate7",
          "heart_rate8",
          "heart_rate9",
          "heart_rate10",
          "heart_rate11",
          "heart_rate12",
          "heart_rate13",
          "heart_rate14",
          "heart_rate15",
          "heart_rate16",
          "heart_rate17",
          "heart_rate18",
          "heart_rate19",
          "heart_rate20",
          "heart_rate21",
          "heart_rate22",
          "heart_rate23",
          "heart_rate24",
          "heart_rate25",
          "heart_rate26",
          "heart_rate27",
          "heart_rate28",
          "heart_rate29",
          "heart_rate30",
          "heart_rate31",
          "heart_rate32",
          "heart_rate33",
          "heart_rate34",
          "heart_rate35",
          "heart_rate36",
          "heart_rate37",
          "heart_rate38",
          "heart_rate39",
          "heart_rate40",
          "heart_rate41",
          "heart_rate42",
          "heart_rate43",
          "heart_rate44",
          "heart_rate45",
          "heart_rate46",
          "heart_rate47"
         ],
         "y": [
          88.33333333333333,
          88,
          87,
          86,
          86,
          86,
          85,
          85,
          85,
          85,
          85,
          84,
          85,
          84,
          84,
          84,
          84,
          84,
          84,
          85,
          85,
          85,
          85,
          85,
          84,
          85,
          85,
          85,
          84,
          84,
          84,
          84,
          84,
          83.5,
          84,
          83,
          83,
          83,
          83,
          83,
          84,
          84,
          83,
          83,
          84,
          84,
          84,
          83
         ]
        }
       ],
       "layout": {
        "template": {
         "data": {
          "bar": [
           {
            "error_x": {
             "color": "#2a3f5f"
            },
            "error_y": {
             "color": "#2a3f5f"
            },
            "marker": {
             "line": {
              "color": "#E5ECF6",
              "width": 0.5
             }
            },
            "type": "bar"
           }
          ],
          "barpolar": [
           {
            "marker": {
             "line": {
              "color": "#E5ECF6",
              "width": 0.5
             }
            },
            "type": "barpolar"
           }
          ],
          "carpet": [
           {
            "aaxis": {
             "endlinecolor": "#2a3f5f",
             "gridcolor": "white",
             "linecolor": "white",
             "minorgridcolor": "white",
             "startlinecolor": "#2a3f5f"
            },
            "baxis": {
             "endlinecolor": "#2a3f5f",
             "gridcolor": "white",
             "linecolor": "white",
             "minorgridcolor": "white",
             "startlinecolor": "#2a3f5f"
            },
            "type": "carpet"
           }
          ],
          "choropleth": [
           {
            "colorbar": {
             "outlinewidth": 0,
             "ticks": ""
            },
            "type": "choropleth"
           }
          ],
          "contour": [
           {
            "colorbar": {
             "outlinewidth": 0,
             "ticks": ""
            },
            "colorscale": [
             [
              0,
              "#0d0887"
             ],
             [
              0.1111111111111111,
              "#46039f"
             ],
             [
              0.2222222222222222,
              "#7201a8"
             ],
             [
              0.3333333333333333,
              "#9c179e"
             ],
             [
              0.4444444444444444,
              "#bd3786"
             ],
             [
              0.5555555555555556,
              "#d8576b"
             ],
             [
              0.6666666666666666,
              "#ed7953"
             ],
             [
              0.7777777777777778,
              "#fb9f3a"
             ],
             [
              0.8888888888888888,
              "#fdca26"
             ],
             [
              1,
              "#f0f921"
             ]
            ],
            "type": "contour"
           }
          ],
          "contourcarpet": [
           {
            "colorbar": {
             "outlinewidth": 0,
             "ticks": ""
            },
            "type": "contourcarpet"
           }
          ],
          "heatmap": [
           {
            "colorbar": {
             "outlinewidth": 0,
             "ticks": ""
            },
            "colorscale": [
             [
              0,
              "#0d0887"
             ],
             [
              0.1111111111111111,
              "#46039f"
             ],
             [
              0.2222222222222222,
              "#7201a8"
             ],
             [
              0.3333333333333333,
              "#9c179e"
             ],
             [
              0.4444444444444444,
              "#bd3786"
             ],
             [
              0.5555555555555556,
              "#d8576b"
             ],
             [
              0.6666666666666666,
              "#ed7953"
             ],
             [
              0.7777777777777778,
              "#fb9f3a"
             ],
             [
              0.8888888888888888,
              "#fdca26"
             ],
             [
              1,
              "#f0f921"
             ]
            ],
            "type": "heatmap"
           }
          ],
          "heatmapgl": [
           {
            "colorbar": {
             "outlinewidth": 0,
             "ticks": ""
            },
            "colorscale": [
             [
              0,
              "#0d0887"
             ],
             [
              0.1111111111111111,
              "#46039f"
             ],
             [
              0.2222222222222222,
              "#7201a8"
             ],
             [
              0.3333333333333333,
              "#9c179e"
             ],
             [
              0.4444444444444444,
              "#bd3786"
             ],
             [
              0.5555555555555556,
              "#d8576b"
             ],
             [
              0.6666666666666666,
              "#ed7953"
             ],
             [
              0.7777777777777778,
              "#fb9f3a"
             ],
             [
              0.8888888888888888,
              "#fdca26"
             ],
             [
              1,
              "#f0f921"
             ]
            ],
            "type": "heatmapgl"
           }
          ],
          "histogram": [
           {
            "marker": {
             "colorbar": {
              "outlinewidth": 0,
              "ticks": ""
             }
            },
            "type": "histogram"
           }
          ],
          "histogram2d": [
           {
            "colorbar": {
             "outlinewidth": 0,
             "ticks": ""
            },
            "colorscale": [
             [
              0,
              "#0d0887"
             ],
             [
              0.1111111111111111,
              "#46039f"
             ],
             [
              0.2222222222222222,
              "#7201a8"
             ],
             [
              0.3333333333333333,
              "#9c179e"
             ],
             [
              0.4444444444444444,
              "#bd3786"
             ],
             [
              0.5555555555555556,
              "#d8576b"
             ],
             [
              0.6666666666666666,
              "#ed7953"
             ],
             [
              0.7777777777777778,
              "#fb9f3a"
             ],
             [
              0.8888888888888888,
              "#fdca26"
             ],
             [
              1,
              "#f0f921"
             ]
            ],
            "type": "histogram2d"
           }
          ],
          "histogram2dcontour": [
           {
            "colorbar": {
             "outlinewidth": 0,
             "ticks": ""
            },
            "colorscale": [
             [
              0,
              "#0d0887"
             ],
             [
              0.1111111111111111,
              "#46039f"
             ],
             [
              0.2222222222222222,
              "#7201a8"
             ],
             [
              0.3333333333333333,
              "#9c179e"
             ],
             [
              0.4444444444444444,
              "#bd3786"
             ],
             [
              0.5555555555555556,
              "#d8576b"
             ],
             [
              0.6666666666666666,
              "#ed7953"
             ],
             [
              0.7777777777777778,
              "#fb9f3a"
             ],
             [
              0.8888888888888888,
              "#fdca26"
             ],
             [
              1,
              "#f0f921"
             ]
            ],
            "type": "histogram2dcontour"
           }
          ],
          "mesh3d": [
           {
            "colorbar": {
             "outlinewidth": 0,
             "ticks": ""
            },
            "type": "mesh3d"
           }
          ],
          "parcoords": [
           {
            "line": {
             "colorbar": {
              "outlinewidth": 0,
              "ticks": ""
             }
            },
            "type": "parcoords"
           }
          ],
          "pie": [
           {
            "automargin": true,
            "type": "pie"
           }
          ],
          "scatter": [
           {
            "marker": {
             "colorbar": {
              "outlinewidth": 0,
              "ticks": ""
             }
            },
            "type": "scatter"
           }
          ],
          "scatter3d": [
           {
            "line": {
             "colorbar": {
              "outlinewidth": 0,
              "ticks": ""
             }
            },
            "marker": {
             "colorbar": {
              "outlinewidth": 0,
              "ticks": ""
             }
            },
            "type": "scatter3d"
           }
          ],
          "scattercarpet": [
           {
            "marker": {
             "colorbar": {
              "outlinewidth": 0,
              "ticks": ""
             }
            },
            "type": "scattercarpet"
           }
          ],
          "scattergeo": [
           {
            "marker": {
             "colorbar": {
              "outlinewidth": 0,
              "ticks": ""
             }
            },
            "type": "scattergeo"
           }
          ],
          "scattergl": [
           {
            "marker": {
             "colorbar": {
              "outlinewidth": 0,
              "ticks": ""
             }
            },
            "type": "scattergl"
           }
          ],
          "scattermapbox": [
           {
            "marker": {
             "colorbar": {
              "outlinewidth": 0,
              "ticks": ""
             }
            },
            "type": "scattermapbox"
           }
          ],
          "scatterpolar": [
           {
            "marker": {
             "colorbar": {
              "outlinewidth": 0,
              "ticks": ""
             }
            },
            "type": "scatterpolar"
           }
          ],
          "scatterpolargl": [
           {
            "marker": {
             "colorbar": {
              "outlinewidth": 0,
              "ticks": ""
             }
            },
            "type": "scatterpolargl"
           }
          ],
          "scatterternary": [
           {
            "marker": {
             "colorbar": {
              "outlinewidth": 0,
              "ticks": ""
             }
            },
            "type": "scatterternary"
           }
          ],
          "surface": [
           {
            "colorbar": {
             "outlinewidth": 0,
             "ticks": ""
            },
            "colorscale": [
             [
              0,
              "#0d0887"
             ],
             [
              0.1111111111111111,
              "#46039f"
             ],
             [
              0.2222222222222222,
              "#7201a8"
             ],
             [
              0.3333333333333333,
              "#9c179e"
             ],
             [
              0.4444444444444444,
              "#bd3786"
             ],
             [
              0.5555555555555556,
              "#d8576b"
             ],
             [
              0.6666666666666666,
              "#ed7953"
             ],
             [
              0.7777777777777778,
              "#fb9f3a"
             ],
             [
              0.8888888888888888,
              "#fdca26"
             ],
             [
              1,
              "#f0f921"
             ]
            ],
            "type": "surface"
           }
          ],
          "table": [
           {
            "cells": {
             "fill": {
              "color": "#EBF0F8"
             },
             "line": {
              "color": "white"
             }
            },
            "header": {
             "fill": {
              "color": "#C8D4E3"
             },
             "line": {
              "color": "white"
             }
            },
            "type": "table"
           }
          ]
         },
         "layout": {
          "annotationdefaults": {
           "arrowcolor": "#2a3f5f",
           "arrowhead": 0,
           "arrowwidth": 1
          },
          "autotypenumbers": "strict",
          "coloraxis": {
           "colorbar": {
            "outlinewidth": 0,
            "ticks": ""
           }
          },
          "colorscale": {
           "diverging": [
            [
             0,
             "#8e0152"
            ],
            [
             0.1,
             "#c51b7d"
            ],
            [
             0.2,
             "#de77ae"
            ],
            [
             0.3,
             "#f1b6da"
            ],
            [
             0.4,
             "#fde0ef"
            ],
            [
             0.5,
             "#f7f7f7"
            ],
            [
             0.6,
             "#e6f5d0"
            ],
            [
             0.7,
             "#b8e186"
            ],
            [
             0.8,
             "#7fbc41"
            ],
            [
             0.9,
             "#4d9221"
            ],
            [
             1,
             "#276419"
            ]
           ],
           "sequential": [
            [
             0,
             "#0d0887"
            ],
            [
             0.1111111111111111,
             "#46039f"
            ],
            [
             0.2222222222222222,
             "#7201a8"
            ],
            [
             0.3333333333333333,
             "#9c179e"
            ],
            [
             0.4444444444444444,
             "#bd3786"
            ],
            [
             0.5555555555555556,
             "#d8576b"
            ],
            [
             0.6666666666666666,
             "#ed7953"
            ],
            [
             0.7777777777777778,
             "#fb9f3a"
            ],
            [
             0.8888888888888888,
             "#fdca26"
            ],
            [
             1,
             "#f0f921"
            ]
           ],
           "sequentialminus": [
            [
             0,
             "#0d0887"
            ],
            [
             0.1111111111111111,
             "#46039f"
            ],
            [
             0.2222222222222222,
             "#7201a8"
            ],
            [
             0.3333333333333333,
             "#9c179e"
            ],
            [
             0.4444444444444444,
             "#bd3786"
            ],
            [
             0.5555555555555556,
             "#d8576b"
            ],
            [
             0.6666666666666666,
             "#ed7953"
            ],
            [
             0.7777777777777778,
             "#fb9f3a"
            ],
            [
             0.8888888888888888,
             "#fdca26"
            ],
            [
             1,
             "#f0f921"
            ]
           ]
          },
          "colorway": [
           "#636efa",
           "#EF553B",
           "#00cc96",
           "#ab63fa",
           "#FFA15A",
           "#19d3f3",
           "#FF6692",
           "#B6E880",
           "#FF97FF",
           "#FECB52"
          ],
          "font": {
           "color": "#2a3f5f"
          },
          "geo": {
           "bgcolor": "white",
           "lakecolor": "white",
           "landcolor": "#E5ECF6",
           "showlakes": true,
           "showland": true,
           "subunitcolor": "white"
          },
          "hoverlabel": {
           "align": "left"
          },
          "hovermode": "closest",
          "mapbox": {
           "style": "light"
          },
          "paper_bgcolor": "white",
          "plot_bgcolor": "#E5ECF6",
          "polar": {
           "angularaxis": {
            "gridcolor": "white",
            "linecolor": "white",
            "ticks": ""
           },
           "bgcolor": "#E5ECF6",
           "radialaxis": {
            "gridcolor": "white",
            "linecolor": "white",
            "ticks": ""
           }
          },
          "scene": {
           "xaxis": {
            "backgroundcolor": "#E5ECF6",
            "gridcolor": "white",
            "gridwidth": 2,
            "linecolor": "white",
            "showbackground": true,
            "ticks": "",
            "zerolinecolor": "white"
           },
           "yaxis": {
            "backgroundcolor": "#E5ECF6",
            "gridcolor": "white",
            "gridwidth": 2,
            "linecolor": "white",
            "showbackground": true,
            "ticks": "",
            "zerolinecolor": "white"
           },
           "zaxis": {
            "backgroundcolor": "#E5ECF6",
            "gridcolor": "white",
            "gridwidth": 2,
            "linecolor": "white",
            "showbackground": true,
            "ticks": "",
            "zerolinecolor": "white"
           }
          },
          "shapedefaults": {
           "line": {
            "color": "#2a3f5f"
           }
          },
          "ternary": {
           "aaxis": {
            "gridcolor": "white",
            "linecolor": "white",
            "ticks": ""
           },
           "baxis": {
            "gridcolor": "white",
            "linecolor": "white",
            "ticks": ""
           },
           "bgcolor": "#E5ECF6",
           "caxis": {
            "gridcolor": "white",
            "linecolor": "white",
            "ticks": ""
           }
          },
          "title": {
           "x": 0.05
          },
          "xaxis": {
           "automargin": true,
           "gridcolor": "white",
           "linecolor": "white",
           "ticks": "",
           "title": {
            "standoff": 15
           },
           "zerolinecolor": "white",
           "zerolinewidth": 2
          },
          "yaxis": {
           "automargin": true,
           "gridcolor": "white",
           "linecolor": "white",
           "ticks": "",
           "title": {
            "standoff": 15
           },
           "zerolinecolor": "white",
           "zerolinewidth": 2
          }
         }
        },
        "xaxis": {
         "title": {
          "text": "Time"
         }
        },
        "yaxis": {
         "title": {
          "text": "heart_rate"
         }
        }
       }
      }
     },
     "metadata": {},
     "output_type": "display_data"
    }
   ],
   "source": [
    "plot_feature_label('heart_rate', 'label_1', 'label_2', 'label_3', 'heart_rate', 'median')"
   ]
  },
  {
   "cell_type": "code",
   "execution_count": 3,
   "metadata": {},
   "outputs": [],
   "source": [
    "## Label analysis function\n",
    "def plot_features(features, df, y_label):\n",
    "    mean_df = df.loc[['mean'], df.columns.to_series().str.contains(features)]\n",
    "    median_df = df.loc[['50%'], df.columns.to_series().str.contains(features)]\n",
    "    mean_Transpose = mean_df.transpose()\n",
    "    median_Transpose = median_df.transpose()\n",
    "    ## merge the two dataframes\n",
    "    mean_median_Transpose = pd.merge(mean_Transpose, median_Transpose, left_index=True, right_index=True)\n",
    "    mean_median_Transpose.columns = ['mean', 'median']\n",
    "    ## plot the dataframe\n",
    "    fig = go.Figure()\n",
    "    fig.add_trace(go.Scatter(x=mean_median_Transpose.index, y=mean_median_Transpose['mean'], name='mean', mode='lines'))\n",
    "    fig.add_trace(go.Scatter(x=mean_median_Transpose.index, y=mean_median_Transpose['median'], name='median', mode='lines'))\n",
    "    fig.update_layout(xaxis_title='Time', yaxis_title=y_label)\n",
    "    return fig\n",
    "\n",
    "## randomly sample 10 points from each label and plot against the mean and median for each feature\n",
    "def random_sample(features, df, y_label):\n",
    "    mean_df = df.loc[['mean'], df.columns.to_series().str.contains(features)]\n",
    "    median_df = df.loc[['50%'], df.columns.to_series().str.contains(features)]\n",
    "    mean_Transpose = mean_df.transpose()\n",
    "    median_Transpose = median_df.transpose()\n",
    "    ## merge the two dataframes\n",
    "    mean_median_Transpose = pd.merge(mean_Transpose, median_Transpose, left_index=True, right_index=True)\n",
    "    mean_median_Transpose.columns = ['mean', 'median']\n",
    "    ## randomly sample 10 points from each label and plot against the mean and median for each feature\n",
    "    "
   ]
  },
  {
   "cell_type": "code",
   "execution_count": 4,
   "metadata": {},
   "outputs": [
    {
     "data": {
      "text/html": [
       "<div>\n",
       "<style scoped>\n",
       "    .dataframe tbody tr th:only-of-type {\n",
       "        vertical-align: middle;\n",
       "    }\n",
       "\n",
       "    .dataframe tbody tr th {\n",
       "        vertical-align: top;\n",
       "    }\n",
       "\n",
       "    .dataframe thead th {\n",
       "        text-align: right;\n",
       "    }\n",
       "</style>\n",
       "<table border=\"1\" class=\"dataframe\">\n",
       "  <thead>\n",
       "    <tr style=\"text-align: right;\">\n",
       "      <th></th>\n",
       "      <th>heart_rate0</th>\n",
       "      <th>heart_rate1</th>\n",
       "      <th>heart_rate2</th>\n",
       "      <th>heart_rate3</th>\n",
       "      <th>heart_rate4</th>\n",
       "      <th>heart_rate5</th>\n",
       "      <th>heart_rate6</th>\n",
       "      <th>heart_rate7</th>\n",
       "      <th>heart_rate8</th>\n",
       "      <th>heart_rate9</th>\n",
       "      <th>...</th>\n",
       "      <th>heart_rate38</th>\n",
       "      <th>heart_rate39</th>\n",
       "      <th>heart_rate40</th>\n",
       "      <th>heart_rate41</th>\n",
       "      <th>heart_rate42</th>\n",
       "      <th>heart_rate43</th>\n",
       "      <th>heart_rate44</th>\n",
       "      <th>heart_rate45</th>\n",
       "      <th>heart_rate46</th>\n",
       "      <th>heart_rate47</th>\n",
       "    </tr>\n",
       "  </thead>\n",
       "  <tbody>\n",
       "    <tr>\n",
       "      <th>7974</th>\n",
       "      <td>78.666667</td>\n",
       "      <td>78.666667</td>\n",
       "      <td>78.666667</td>\n",
       "      <td>78.666667</td>\n",
       "      <td>64.75</td>\n",
       "      <td>62.5</td>\n",
       "      <td>63.5</td>\n",
       "      <td>63.5</td>\n",
       "      <td>59.0</td>\n",
       "      <td>59.000000</td>\n",
       "      <td>...</td>\n",
       "      <td>68.0</td>\n",
       "      <td>71.000000</td>\n",
       "      <td>73.0</td>\n",
       "      <td>73.0</td>\n",
       "      <td>71.0</td>\n",
       "      <td>93.0</td>\n",
       "      <td>98.0</td>\n",
       "      <td>100.0</td>\n",
       "      <td>104.0</td>\n",
       "      <td>87.0</td>\n",
       "    </tr>\n",
       "    <tr>\n",
       "      <th>1988</th>\n",
       "      <td>78.000000</td>\n",
       "      <td>78.000000</td>\n",
       "      <td>78.000000</td>\n",
       "      <td>78.000000</td>\n",
       "      <td>78.00</td>\n",
       "      <td>78.0</td>\n",
       "      <td>78.0</td>\n",
       "      <td>78.0</td>\n",
       "      <td>78.0</td>\n",
       "      <td>81.142857</td>\n",
       "      <td>...</td>\n",
       "      <td>84.0</td>\n",
       "      <td>81.000000</td>\n",
       "      <td>82.0</td>\n",
       "      <td>82.0</td>\n",
       "      <td>82.0</td>\n",
       "      <td>89.0</td>\n",
       "      <td>83.0</td>\n",
       "      <td>91.0</td>\n",
       "      <td>79.0</td>\n",
       "      <td>80.0</td>\n",
       "    </tr>\n",
       "    <tr>\n",
       "      <th>2304</th>\n",
       "      <td>80.250000</td>\n",
       "      <td>80.250000</td>\n",
       "      <td>80.250000</td>\n",
       "      <td>80.250000</td>\n",
       "      <td>77.00</td>\n",
       "      <td>80.0</td>\n",
       "      <td>80.0</td>\n",
       "      <td>80.0</td>\n",
       "      <td>80.5</td>\n",
       "      <td>81.200000</td>\n",
       "      <td>...</td>\n",
       "      <td>123.0</td>\n",
       "      <td>109.666667</td>\n",
       "      <td>115.5</td>\n",
       "      <td>113.2</td>\n",
       "      <td>112.5</td>\n",
       "      <td>121.0</td>\n",
       "      <td>112.0</td>\n",
       "      <td>124.0</td>\n",
       "      <td>111.0</td>\n",
       "      <td>101.0</td>\n",
       "    </tr>\n",
       "    <tr>\n",
       "      <th>6511</th>\n",
       "      <td>60.333333</td>\n",
       "      <td>60.333333</td>\n",
       "      <td>60.333333</td>\n",
       "      <td>60.333333</td>\n",
       "      <td>72.00</td>\n",
       "      <td>68.0</td>\n",
       "      <td>70.0</td>\n",
       "      <td>71.0</td>\n",
       "      <td>78.0</td>\n",
       "      <td>82.000000</td>\n",
       "      <td>...</td>\n",
       "      <td>72.0</td>\n",
       "      <td>74.000000</td>\n",
       "      <td>78.0</td>\n",
       "      <td>83.0</td>\n",
       "      <td>88.0</td>\n",
       "      <td>97.0</td>\n",
       "      <td>82.0</td>\n",
       "      <td>86.0</td>\n",
       "      <td>92.0</td>\n",
       "      <td>94.0</td>\n",
       "    </tr>\n",
       "    <tr>\n",
       "      <th>7077</th>\n",
       "      <td>80.000000</td>\n",
       "      <td>80.000000</td>\n",
       "      <td>87.833333</td>\n",
       "      <td>87.500000</td>\n",
       "      <td>90.00</td>\n",
       "      <td>79.5</td>\n",
       "      <td>67.5</td>\n",
       "      <td>90.0</td>\n",
       "      <td>77.0</td>\n",
       "      <td>74.000000</td>\n",
       "      <td>...</td>\n",
       "      <td>85.0</td>\n",
       "      <td>81.000000</td>\n",
       "      <td>81.0</td>\n",
       "      <td>86.0</td>\n",
       "      <td>80.0</td>\n",
       "      <td>79.0</td>\n",
       "      <td>93.0</td>\n",
       "      <td>78.0</td>\n",
       "      <td>75.0</td>\n",
       "      <td>74.0</td>\n",
       "    </tr>\n",
       "  </tbody>\n",
       "</table>\n",
       "<p>5 rows × 48 columns</p>\n",
       "</div>"
      ],
      "text/plain": [
       "      heart_rate0  heart_rate1  heart_rate2  heart_rate3  heart_rate4  \\\n",
       "7974    78.666667    78.666667    78.666667    78.666667        64.75   \n",
       "1988    78.000000    78.000000    78.000000    78.000000        78.00   \n",
       "2304    80.250000    80.250000    80.250000    80.250000        77.00   \n",
       "6511    60.333333    60.333333    60.333333    60.333333        72.00   \n",
       "7077    80.000000    80.000000    87.833333    87.500000        90.00   \n",
       "\n",
       "      heart_rate5  heart_rate6  heart_rate7  heart_rate8  heart_rate9  ...  \\\n",
       "7974         62.5         63.5         63.5         59.0    59.000000  ...   \n",
       "1988         78.0         78.0         78.0         78.0    81.142857  ...   \n",
       "2304         80.0         80.0         80.0         80.5    81.200000  ...   \n",
       "6511         68.0         70.0         71.0         78.0    82.000000  ...   \n",
       "7077         79.5         67.5         90.0         77.0    74.000000  ...   \n",
       "\n",
       "      heart_rate38  heart_rate39  heart_rate40  heart_rate41  heart_rate42  \\\n",
       "7974          68.0     71.000000          73.0          73.0          71.0   \n",
       "1988          84.0     81.000000          82.0          82.0          82.0   \n",
       "2304         123.0    109.666667         115.5         113.2         112.5   \n",
       "6511          72.0     74.000000          78.0          83.0          88.0   \n",
       "7077          85.0     81.000000          81.0          86.0          80.0   \n",
       "\n",
       "      heart_rate43  heart_rate44  heart_rate45  heart_rate46  heart_rate47  \n",
       "7974          93.0          98.0         100.0         104.0          87.0  \n",
       "1988          89.0          83.0          91.0          79.0          80.0  \n",
       "2304         121.0         112.0         124.0         111.0         101.0  \n",
       "6511          97.0          82.0          86.0          92.0          94.0  \n",
       "7077          79.0          93.0          78.0          75.0          74.0  \n",
       "\n",
       "[5 rows x 48 columns]"
      ]
     },
     "execution_count": 4,
     "metadata": {},
     "output_type": "execute_result"
    }
   ],
   "source": [
    "sample_2 = df_umap_2.sample(n=5)\n",
    "new_df = sample_2.loc[:, sample_2.columns.to_series().str.contains('heart_rate')]\n",
    "new_df.head()"
   ]
  },
  {
   "cell_type": "code",
   "execution_count": 5,
   "metadata": {},
   "outputs": [
    {
     "data": {
      "text/html": [
       "<div>\n",
       "<style scoped>\n",
       "    .dataframe tbody tr th:only-of-type {\n",
       "        vertical-align: middle;\n",
       "    }\n",
       "\n",
       "    .dataframe tbody tr th {\n",
       "        vertical-align: top;\n",
       "    }\n",
       "\n",
       "    .dataframe thead th {\n",
       "        text-align: right;\n",
       "    }\n",
       "</style>\n",
       "<table border=\"1\" class=\"dataframe\">\n",
       "  <thead>\n",
       "    <tr style=\"text-align: right;\">\n",
       "      <th></th>\n",
       "      <th>sample_0</th>\n",
       "      <th>sample_1</th>\n",
       "      <th>sample_2</th>\n",
       "      <th>sample_3</th>\n",
       "      <th>sample_4</th>\n",
       "    </tr>\n",
       "  </thead>\n",
       "  <tbody>\n",
       "    <tr>\n",
       "      <th>heart_rate0</th>\n",
       "      <td>78.666667</td>\n",
       "      <td>78.0</td>\n",
       "      <td>80.25</td>\n",
       "      <td>60.333333</td>\n",
       "      <td>80.000000</td>\n",
       "    </tr>\n",
       "    <tr>\n",
       "      <th>heart_rate1</th>\n",
       "      <td>78.666667</td>\n",
       "      <td>78.0</td>\n",
       "      <td>80.25</td>\n",
       "      <td>60.333333</td>\n",
       "      <td>80.000000</td>\n",
       "    </tr>\n",
       "    <tr>\n",
       "      <th>heart_rate2</th>\n",
       "      <td>78.666667</td>\n",
       "      <td>78.0</td>\n",
       "      <td>80.25</td>\n",
       "      <td>60.333333</td>\n",
       "      <td>87.833333</td>\n",
       "    </tr>\n",
       "    <tr>\n",
       "      <th>heart_rate3</th>\n",
       "      <td>78.666667</td>\n",
       "      <td>78.0</td>\n",
       "      <td>80.25</td>\n",
       "      <td>60.333333</td>\n",
       "      <td>87.500000</td>\n",
       "    </tr>\n",
       "    <tr>\n",
       "      <th>heart_rate4</th>\n",
       "      <td>64.750000</td>\n",
       "      <td>78.0</td>\n",
       "      <td>77.00</td>\n",
       "      <td>72.000000</td>\n",
       "      <td>90.000000</td>\n",
       "    </tr>\n",
       "  </tbody>\n",
       "</table>\n",
       "</div>"
      ],
      "text/plain": [
       "              sample_0  sample_1  sample_2   sample_3   sample_4\n",
       "heart_rate0  78.666667      78.0     80.25  60.333333  80.000000\n",
       "heart_rate1  78.666667      78.0     80.25  60.333333  80.000000\n",
       "heart_rate2  78.666667      78.0     80.25  60.333333  87.833333\n",
       "heart_rate3  78.666667      78.0     80.25  60.333333  87.500000\n",
       "heart_rate4  64.750000      78.0     77.00  72.000000  90.000000"
      ]
     },
     "execution_count": 5,
     "metadata": {},
     "output_type": "execute_result"
    }
   ],
   "source": [
    "transpose  = new_df.transpose()\n",
    "transpose.head()\n",
    "## UPDATE COLUMNS NAMES with for loop\n",
    "transpose.columns = ['sample'+'_{}'.format(i) for i in range(len(transpose.columns))]\n",
    "transpose.head()\n"
   ]
  },
  {
   "cell_type": "code",
   "execution_count": 6,
   "metadata": {},
   "outputs": [],
   "source": [
    "mean_df = df_umap_2_describe.loc[['mean'], df_umap_2_describe.columns.to_series().str.contains('heart_rate')]\n",
    "median_df = df_umap_2_describe.loc[['50%'], df_umap_2_describe.columns.to_series().str.contains('heart_rate')]\n",
    "mean_Transpose = mean_df.transpose()\n",
    "median_Transpose = median_df.transpose()\n",
    "## merge the two dataframes\n",
    "mean_median_Transpose = pd.merge(mean_Transpose, median_Transpose, left_index=True, right_index=True)\n",
    "mean_median_Transpose.columns = ['mean', 'median']"
   ]
  },
  {
   "cell_type": "code",
   "execution_count": 7,
   "metadata": {},
   "outputs": [
    {
     "data": {
      "application/vnd.plotly.v1+json": {
       "config": {
        "plotlyServerURL": "https://plot.ly"
       },
       "data": [
        {
         "line": {
          "dash": "dash",
          "width": 2
         },
         "name": "sample_0",
         "type": "scatter",
         "x": [
          "heart_rate0",
          "heart_rate1",
          "heart_rate2",
          "heart_rate3",
          "heart_rate4",
          "heart_rate5",
          "heart_rate6",
          "heart_rate7",
          "heart_rate8",
          "heart_rate9",
          "heart_rate10",
          "heart_rate11",
          "heart_rate12",
          "heart_rate13",
          "heart_rate14",
          "heart_rate15",
          "heart_rate16",
          "heart_rate17",
          "heart_rate18",
          "heart_rate19",
          "heart_rate20",
          "heart_rate21",
          "heart_rate22",
          "heart_rate23",
          "heart_rate24",
          "heart_rate25",
          "heart_rate26",
          "heart_rate27",
          "heart_rate28",
          "heart_rate29",
          "heart_rate30",
          "heart_rate31",
          "heart_rate32",
          "heart_rate33",
          "heart_rate34",
          "heart_rate35",
          "heart_rate36",
          "heart_rate37",
          "heart_rate38",
          "heart_rate39",
          "heart_rate40",
          "heart_rate41",
          "heart_rate42",
          "heart_rate43",
          "heart_rate44",
          "heart_rate45",
          "heart_rate46",
          "heart_rate47"
         ],
         "y": [
          78.66666666666667,
          78.66666666666667,
          78.66666666666667,
          78.66666666666667,
          64.75,
          62.5,
          63.5,
          63.5,
          59,
          59,
          57,
          60,
          61,
          59.66666666666666,
          59.5,
          66,
          66,
          66,
          61.75,
          63.8,
          66,
          67,
          66,
          60,
          61,
          62,
          80,
          80,
          60,
          62,
          59.5,
          61,
          57,
          62,
          61,
          63,
          62,
          65,
          68,
          71,
          73,
          73,
          71,
          93,
          98,
          100,
          104,
          87
         ]
        },
        {
         "line": {
          "dash": "dash",
          "width": 2
         },
         "name": "sample_1",
         "type": "scatter",
         "x": [
          "heart_rate0",
          "heart_rate1",
          "heart_rate2",
          "heart_rate3",
          "heart_rate4",
          "heart_rate5",
          "heart_rate6",
          "heart_rate7",
          "heart_rate8",
          "heart_rate9",
          "heart_rate10",
          "heart_rate11",
          "heart_rate12",
          "heart_rate13",
          "heart_rate14",
          "heart_rate15",
          "heart_rate16",
          "heart_rate17",
          "heart_rate18",
          "heart_rate19",
          "heart_rate20",
          "heart_rate21",
          "heart_rate22",
          "heart_rate23",
          "heart_rate24",
          "heart_rate25",
          "heart_rate26",
          "heart_rate27",
          "heart_rate28",
          "heart_rate29",
          "heart_rate30",
          "heart_rate31",
          "heart_rate32",
          "heart_rate33",
          "heart_rate34",
          "heart_rate35",
          "heart_rate36",
          "heart_rate37",
          "heart_rate38",
          "heart_rate39",
          "heart_rate40",
          "heart_rate41",
          "heart_rate42",
          "heart_rate43",
          "heart_rate44",
          "heart_rate45",
          "heart_rate46",
          "heart_rate47"
         ],
         "y": [
          78,
          78,
          78,
          78,
          78,
          78,
          78,
          78,
          78,
          81.14285714285714,
          83,
          77.33333333333333,
          77.5,
          71,
          75,
          92,
          106,
          107,
          106,
          114,
          115,
          102,
          109,
          97,
          79,
          80,
          83,
          86,
          83,
          82,
          94,
          90,
          88,
          91,
          89,
          80,
          79,
          83,
          84,
          81,
          82,
          82,
          82,
          89,
          83,
          91,
          79,
          80
         ]
        },
        {
         "line": {
          "dash": "dash",
          "width": 2
         },
         "name": "sample_2",
         "type": "scatter",
         "x": [
          "heart_rate0",
          "heart_rate1",
          "heart_rate2",
          "heart_rate3",
          "heart_rate4",
          "heart_rate5",
          "heart_rate6",
          "heart_rate7",
          "heart_rate8",
          "heart_rate9",
          "heart_rate10",
          "heart_rate11",
          "heart_rate12",
          "heart_rate13",
          "heart_rate14",
          "heart_rate15",
          "heart_rate16",
          "heart_rate17",
          "heart_rate18",
          "heart_rate19",
          "heart_rate20",
          "heart_rate21",
          "heart_rate22",
          "heart_rate23",
          "heart_rate24",
          "heart_rate25",
          "heart_rate26",
          "heart_rate27",
          "heart_rate28",
          "heart_rate29",
          "heart_rate30",
          "heart_rate31",
          "heart_rate32",
          "heart_rate33",
          "heart_rate34",
          "heart_rate35",
          "heart_rate36",
          "heart_rate37",
          "heart_rate38",
          "heart_rate39",
          "heart_rate40",
          "heart_rate41",
          "heart_rate42",
          "heart_rate43",
          "heart_rate44",
          "heart_rate45",
          "heart_rate46",
          "heart_rate47"
         ],
         "y": [
          80.25,
          80.25,
          80.25,
          80.25,
          77,
          80,
          80,
          80,
          80.5,
          81.2,
          83.5,
          85,
          85,
          84,
          94.5,
          90,
          90,
          94,
          91,
          73,
          82,
          87.66666666666667,
          88.5,
          107.5,
          111,
          114,
          109,
          112,
          112,
          139,
          123,
          121,
          120,
          118.5,
          120,
          121.5,
          127.5,
          122,
          123,
          109.66666666666669,
          115.5,
          113.2,
          112.5,
          121,
          112,
          124,
          111,
          101
         ]
        },
        {
         "line": {
          "dash": "dash",
          "width": 2
         },
         "name": "sample_3",
         "type": "scatter",
         "x": [
          "heart_rate0",
          "heart_rate1",
          "heart_rate2",
          "heart_rate3",
          "heart_rate4",
          "heart_rate5",
          "heart_rate6",
          "heart_rate7",
          "heart_rate8",
          "heart_rate9",
          "heart_rate10",
          "heart_rate11",
          "heart_rate12",
          "heart_rate13",
          "heart_rate14",
          "heart_rate15",
          "heart_rate16",
          "heart_rate17",
          "heart_rate18",
          "heart_rate19",
          "heart_rate20",
          "heart_rate21",
          "heart_rate22",
          "heart_rate23",
          "heart_rate24",
          "heart_rate25",
          "heart_rate26",
          "heart_rate27",
          "heart_rate28",
          "heart_rate29",
          "heart_rate30",
          "heart_rate31",
          "heart_rate32",
          "heart_rate33",
          "heart_rate34",
          "heart_rate35",
          "heart_rate36",
          "heart_rate37",
          "heart_rate38",
          "heart_rate39",
          "heart_rate40",
          "heart_rate41",
          "heart_rate42",
          "heart_rate43",
          "heart_rate44",
          "heart_rate45",
          "heart_rate46",
          "heart_rate47"
         ],
         "y": [
          60.333333333333336,
          60.333333333333336,
          60.333333333333336,
          60.333333333333336,
          72,
          68,
          70,
          71,
          78,
          82,
          77,
          78,
          80,
          82,
          83,
          80,
          74,
          77,
          73,
          81,
          73,
          78,
          74,
          71,
          70,
          73,
          90,
          90,
          74.33333333333333,
          80,
          80,
          80,
          80,
          64,
          65,
          66,
          67.5,
          78,
          72,
          74,
          78,
          83,
          88,
          97,
          82,
          86,
          92,
          94
         ]
        },
        {
         "line": {
          "dash": "dash",
          "width": 2
         },
         "name": "sample_4",
         "type": "scatter",
         "x": [
          "heart_rate0",
          "heart_rate1",
          "heart_rate2",
          "heart_rate3",
          "heart_rate4",
          "heart_rate5",
          "heart_rate6",
          "heart_rate7",
          "heart_rate8",
          "heart_rate9",
          "heart_rate10",
          "heart_rate11",
          "heart_rate12",
          "heart_rate13",
          "heart_rate14",
          "heart_rate15",
          "heart_rate16",
          "heart_rate17",
          "heart_rate18",
          "heart_rate19",
          "heart_rate20",
          "heart_rate21",
          "heart_rate22",
          "heart_rate23",
          "heart_rate24",
          "heart_rate25",
          "heart_rate26",
          "heart_rate27",
          "heart_rate28",
          "heart_rate29",
          "heart_rate30",
          "heart_rate31",
          "heart_rate32",
          "heart_rate33",
          "heart_rate34",
          "heart_rate35",
          "heart_rate36",
          "heart_rate37",
          "heart_rate38",
          "heart_rate39",
          "heart_rate40",
          "heart_rate41",
          "heart_rate42",
          "heart_rate43",
          "heart_rate44",
          "heart_rate45",
          "heart_rate46",
          "heart_rate47"
         ],
         "y": [
          80,
          80,
          87.83333333333333,
          87.5,
          90,
          79.5,
          67.5,
          90,
          77,
          74,
          69,
          80,
          80,
          80,
          80,
          80,
          80,
          62.5,
          80,
          80,
          80,
          80,
          84,
          80,
          80,
          80,
          73,
          75,
          76,
          80,
          80,
          80,
          82,
          86,
          84,
          88,
          82,
          87,
          85,
          81,
          81,
          86,
          80,
          79,
          93,
          78,
          75,
          74
         ]
        },
        {
         "line": {
          "color": "firebrick",
          "width": 2
         },
         "name": "mean",
         "type": "scatter",
         "x": [
          "heart_rate0",
          "heart_rate1",
          "heart_rate2",
          "heart_rate3",
          "heart_rate4",
          "heart_rate5",
          "heart_rate6",
          "heart_rate7",
          "heart_rate8",
          "heart_rate9",
          "heart_rate10",
          "heart_rate11",
          "heart_rate12",
          "heart_rate13",
          "heart_rate14",
          "heart_rate15",
          "heart_rate16",
          "heart_rate17",
          "heart_rate18",
          "heart_rate19",
          "heart_rate20",
          "heart_rate21",
          "heart_rate22",
          "heart_rate23",
          "heart_rate24",
          "heart_rate25",
          "heart_rate26",
          "heart_rate27",
          "heart_rate28",
          "heart_rate29",
          "heart_rate30",
          "heart_rate31",
          "heart_rate32",
          "heart_rate33",
          "heart_rate34",
          "heart_rate35",
          "heart_rate36",
          "heart_rate37",
          "heart_rate38",
          "heart_rate39",
          "heart_rate40",
          "heart_rate41",
          "heart_rate42",
          "heart_rate43",
          "heart_rate44",
          "heart_rate45",
          "heart_rate46",
          "heart_rate47"
         ],
         "y": [
          87.66683492063491,
          86.64509523809524,
          85.55782222222223,
          85.68125714285713,
          86.20741587301588,
          85.44178371735791,
          85.54047619047618,
          86.90106666666667,
          85.95666666666666,
          86.98533333333334,
          87.92704761904761,
          88.01133333333334,
          87.47146666666667,
          86.93133333333334,
          88.81866666666666,
          89.4,
          90.19466666666666,
          89.434,
          90.37266666666666,
          89.65173333333334,
          89.77795151515151,
          89.31666666666668,
          89.8236,
          90.066,
          89.81746666666666,
          88.664,
          89.43733333333333,
          89.232,
          89.18266666666668,
          89.13333333333334,
          88.03466666666665,
          88.84666666666668,
          87.676,
          88.17066666666666,
          88.128,
          87.256,
          87.456,
          87.57733333333334,
          87.4808,
          86.60293333333334,
          86.616,
          86.61760000000001,
          86.84,
          86.28933333333335,
          86.7057142857143,
          86.8488,
          86.6732,
          86.328
         ]
        },
        {
         "line": {
          "color": "royalblue",
          "width": 2
         },
         "name": "median",
         "type": "scatter",
         "x": [
          "heart_rate0",
          "heart_rate1",
          "heart_rate2",
          "heart_rate3",
          "heart_rate4",
          "heart_rate5",
          "heart_rate6",
          "heart_rate7",
          "heart_rate8",
          "heart_rate9",
          "heart_rate10",
          "heart_rate11",
          "heart_rate12",
          "heart_rate13",
          "heart_rate14",
          "heart_rate15",
          "heart_rate16",
          "heart_rate17",
          "heart_rate18",
          "heart_rate19",
          "heart_rate20",
          "heart_rate21",
          "heart_rate22",
          "heart_rate23",
          "heart_rate24",
          "heart_rate25",
          "heart_rate26",
          "heart_rate27",
          "heart_rate28",
          "heart_rate29",
          "heart_rate30",
          "heart_rate31",
          "heart_rate32",
          "heart_rate33",
          "heart_rate34",
          "heart_rate35",
          "heart_rate36",
          "heart_rate37",
          "heart_rate38",
          "heart_rate39",
          "heart_rate40",
          "heart_rate41",
          "heart_rate42",
          "heart_rate43",
          "heart_rate44",
          "heart_rate45",
          "heart_rate46",
          "heart_rate47"
         ],
         "y": [
          83.33333333333333,
          82,
          82,
          81.75,
          83,
          83,
          84,
          85,
          84,
          85,
          86,
          86,
          87,
          86,
          89,
          90,
          90,
          90,
          91,
          90,
          88,
          90,
          88.5,
          90,
          90,
          88,
          89,
          90,
          88,
          89,
          89,
          89,
          88,
          87,
          88,
          86,
          85,
          87,
          85,
          83,
          82.5,
          85,
          84,
          85,
          84,
          83,
          85,
          85
         ]
        }
       ],
       "layout": {
        "template": {
         "data": {
          "bar": [
           {
            "error_x": {
             "color": "#2a3f5f"
            },
            "error_y": {
             "color": "#2a3f5f"
            },
            "marker": {
             "line": {
              "color": "#E5ECF6",
              "width": 0.5
             }
            },
            "type": "bar"
           }
          ],
          "barpolar": [
           {
            "marker": {
             "line": {
              "color": "#E5ECF6",
              "width": 0.5
             }
            },
            "type": "barpolar"
           }
          ],
          "carpet": [
           {
            "aaxis": {
             "endlinecolor": "#2a3f5f",
             "gridcolor": "white",
             "linecolor": "white",
             "minorgridcolor": "white",
             "startlinecolor": "#2a3f5f"
            },
            "baxis": {
             "endlinecolor": "#2a3f5f",
             "gridcolor": "white",
             "linecolor": "white",
             "minorgridcolor": "white",
             "startlinecolor": "#2a3f5f"
            },
            "type": "carpet"
           }
          ],
          "choropleth": [
           {
            "colorbar": {
             "outlinewidth": 0,
             "ticks": ""
            },
            "type": "choropleth"
           }
          ],
          "contour": [
           {
            "colorbar": {
             "outlinewidth": 0,
             "ticks": ""
            },
            "colorscale": [
             [
              0,
              "#0d0887"
             ],
             [
              0.1111111111111111,
              "#46039f"
             ],
             [
              0.2222222222222222,
              "#7201a8"
             ],
             [
              0.3333333333333333,
              "#9c179e"
             ],
             [
              0.4444444444444444,
              "#bd3786"
             ],
             [
              0.5555555555555556,
              "#d8576b"
             ],
             [
              0.6666666666666666,
              "#ed7953"
             ],
             [
              0.7777777777777778,
              "#fb9f3a"
             ],
             [
              0.8888888888888888,
              "#fdca26"
             ],
             [
              1,
              "#f0f921"
             ]
            ],
            "type": "contour"
           }
          ],
          "contourcarpet": [
           {
            "colorbar": {
             "outlinewidth": 0,
             "ticks": ""
            },
            "type": "contourcarpet"
           }
          ],
          "heatmap": [
           {
            "colorbar": {
             "outlinewidth": 0,
             "ticks": ""
            },
            "colorscale": [
             [
              0,
              "#0d0887"
             ],
             [
              0.1111111111111111,
              "#46039f"
             ],
             [
              0.2222222222222222,
              "#7201a8"
             ],
             [
              0.3333333333333333,
              "#9c179e"
             ],
             [
              0.4444444444444444,
              "#bd3786"
             ],
             [
              0.5555555555555556,
              "#d8576b"
             ],
             [
              0.6666666666666666,
              "#ed7953"
             ],
             [
              0.7777777777777778,
              "#fb9f3a"
             ],
             [
              0.8888888888888888,
              "#fdca26"
             ],
             [
              1,
              "#f0f921"
             ]
            ],
            "type": "heatmap"
           }
          ],
          "heatmapgl": [
           {
            "colorbar": {
             "outlinewidth": 0,
             "ticks": ""
            },
            "colorscale": [
             [
              0,
              "#0d0887"
             ],
             [
              0.1111111111111111,
              "#46039f"
             ],
             [
              0.2222222222222222,
              "#7201a8"
             ],
             [
              0.3333333333333333,
              "#9c179e"
             ],
             [
              0.4444444444444444,
              "#bd3786"
             ],
             [
              0.5555555555555556,
              "#d8576b"
             ],
             [
              0.6666666666666666,
              "#ed7953"
             ],
             [
              0.7777777777777778,
              "#fb9f3a"
             ],
             [
              0.8888888888888888,
              "#fdca26"
             ],
             [
              1,
              "#f0f921"
             ]
            ],
            "type": "heatmapgl"
           }
          ],
          "histogram": [
           {
            "marker": {
             "colorbar": {
              "outlinewidth": 0,
              "ticks": ""
             }
            },
            "type": "histogram"
           }
          ],
          "histogram2d": [
           {
            "colorbar": {
             "outlinewidth": 0,
             "ticks": ""
            },
            "colorscale": [
             [
              0,
              "#0d0887"
             ],
             [
              0.1111111111111111,
              "#46039f"
             ],
             [
              0.2222222222222222,
              "#7201a8"
             ],
             [
              0.3333333333333333,
              "#9c179e"
             ],
             [
              0.4444444444444444,
              "#bd3786"
             ],
             [
              0.5555555555555556,
              "#d8576b"
             ],
             [
              0.6666666666666666,
              "#ed7953"
             ],
             [
              0.7777777777777778,
              "#fb9f3a"
             ],
             [
              0.8888888888888888,
              "#fdca26"
             ],
             [
              1,
              "#f0f921"
             ]
            ],
            "type": "histogram2d"
           }
          ],
          "histogram2dcontour": [
           {
            "colorbar": {
             "outlinewidth": 0,
             "ticks": ""
            },
            "colorscale": [
             [
              0,
              "#0d0887"
             ],
             [
              0.1111111111111111,
              "#46039f"
             ],
             [
              0.2222222222222222,
              "#7201a8"
             ],
             [
              0.3333333333333333,
              "#9c179e"
             ],
             [
              0.4444444444444444,
              "#bd3786"
             ],
             [
              0.5555555555555556,
              "#d8576b"
             ],
             [
              0.6666666666666666,
              "#ed7953"
             ],
             [
              0.7777777777777778,
              "#fb9f3a"
             ],
             [
              0.8888888888888888,
              "#fdca26"
             ],
             [
              1,
              "#f0f921"
             ]
            ],
            "type": "histogram2dcontour"
           }
          ],
          "mesh3d": [
           {
            "colorbar": {
             "outlinewidth": 0,
             "ticks": ""
            },
            "type": "mesh3d"
           }
          ],
          "parcoords": [
           {
            "line": {
             "colorbar": {
              "outlinewidth": 0,
              "ticks": ""
             }
            },
            "type": "parcoords"
           }
          ],
          "pie": [
           {
            "automargin": true,
            "type": "pie"
           }
          ],
          "scatter": [
           {
            "marker": {
             "colorbar": {
              "outlinewidth": 0,
              "ticks": ""
             }
            },
            "type": "scatter"
           }
          ],
          "scatter3d": [
           {
            "line": {
             "colorbar": {
              "outlinewidth": 0,
              "ticks": ""
             }
            },
            "marker": {
             "colorbar": {
              "outlinewidth": 0,
              "ticks": ""
             }
            },
            "type": "scatter3d"
           }
          ],
          "scattercarpet": [
           {
            "marker": {
             "colorbar": {
              "outlinewidth": 0,
              "ticks": ""
             }
            },
            "type": "scattercarpet"
           }
          ],
          "scattergeo": [
           {
            "marker": {
             "colorbar": {
              "outlinewidth": 0,
              "ticks": ""
             }
            },
            "type": "scattergeo"
           }
          ],
          "scattergl": [
           {
            "marker": {
             "colorbar": {
              "outlinewidth": 0,
              "ticks": ""
             }
            },
            "type": "scattergl"
           }
          ],
          "scattermapbox": [
           {
            "marker": {
             "colorbar": {
              "outlinewidth": 0,
              "ticks": ""
             }
            },
            "type": "scattermapbox"
           }
          ],
          "scatterpolar": [
           {
            "marker": {
             "colorbar": {
              "outlinewidth": 0,
              "ticks": ""
             }
            },
            "type": "scatterpolar"
           }
          ],
          "scatterpolargl": [
           {
            "marker": {
             "colorbar": {
              "outlinewidth": 0,
              "ticks": ""
             }
            },
            "type": "scatterpolargl"
           }
          ],
          "scatterternary": [
           {
            "marker": {
             "colorbar": {
              "outlinewidth": 0,
              "ticks": ""
             }
            },
            "type": "scatterternary"
           }
          ],
          "surface": [
           {
            "colorbar": {
             "outlinewidth": 0,
             "ticks": ""
            },
            "colorscale": [
             [
              0,
              "#0d0887"
             ],
             [
              0.1111111111111111,
              "#46039f"
             ],
             [
              0.2222222222222222,
              "#7201a8"
             ],
             [
              0.3333333333333333,
              "#9c179e"
             ],
             [
              0.4444444444444444,
              "#bd3786"
             ],
             [
              0.5555555555555556,
              "#d8576b"
             ],
             [
              0.6666666666666666,
              "#ed7953"
             ],
             [
              0.7777777777777778,
              "#fb9f3a"
             ],
             [
              0.8888888888888888,
              "#fdca26"
             ],
             [
              1,
              "#f0f921"
             ]
            ],
            "type": "surface"
           }
          ],
          "table": [
           {
            "cells": {
             "fill": {
              "color": "#EBF0F8"
             },
             "line": {
              "color": "white"
             }
            },
            "header": {
             "fill": {
              "color": "#C8D4E3"
             },
             "line": {
              "color": "white"
             }
            },
            "type": "table"
           }
          ]
         },
         "layout": {
          "annotationdefaults": {
           "arrowcolor": "#2a3f5f",
           "arrowhead": 0,
           "arrowwidth": 1
          },
          "autotypenumbers": "strict",
          "coloraxis": {
           "colorbar": {
            "outlinewidth": 0,
            "ticks": ""
           }
          },
          "colorscale": {
           "diverging": [
            [
             0,
             "#8e0152"
            ],
            [
             0.1,
             "#c51b7d"
            ],
            [
             0.2,
             "#de77ae"
            ],
            [
             0.3,
             "#f1b6da"
            ],
            [
             0.4,
             "#fde0ef"
            ],
            [
             0.5,
             "#f7f7f7"
            ],
            [
             0.6,
             "#e6f5d0"
            ],
            [
             0.7,
             "#b8e186"
            ],
            [
             0.8,
             "#7fbc41"
            ],
            [
             0.9,
             "#4d9221"
            ],
            [
             1,
             "#276419"
            ]
           ],
           "sequential": [
            [
             0,
             "#0d0887"
            ],
            [
             0.1111111111111111,
             "#46039f"
            ],
            [
             0.2222222222222222,
             "#7201a8"
            ],
            [
             0.3333333333333333,
             "#9c179e"
            ],
            [
             0.4444444444444444,
             "#bd3786"
            ],
            [
             0.5555555555555556,
             "#d8576b"
            ],
            [
             0.6666666666666666,
             "#ed7953"
            ],
            [
             0.7777777777777778,
             "#fb9f3a"
            ],
            [
             0.8888888888888888,
             "#fdca26"
            ],
            [
             1,
             "#f0f921"
            ]
           ],
           "sequentialminus": [
            [
             0,
             "#0d0887"
            ],
            [
             0.1111111111111111,
             "#46039f"
            ],
            [
             0.2222222222222222,
             "#7201a8"
            ],
            [
             0.3333333333333333,
             "#9c179e"
            ],
            [
             0.4444444444444444,
             "#bd3786"
            ],
            [
             0.5555555555555556,
             "#d8576b"
            ],
            [
             0.6666666666666666,
             "#ed7953"
            ],
            [
             0.7777777777777778,
             "#fb9f3a"
            ],
            [
             0.8888888888888888,
             "#fdca26"
            ],
            [
             1,
             "#f0f921"
            ]
           ]
          },
          "colorway": [
           "#636efa",
           "#EF553B",
           "#00cc96",
           "#ab63fa",
           "#FFA15A",
           "#19d3f3",
           "#FF6692",
           "#B6E880",
           "#FF97FF",
           "#FECB52"
          ],
          "font": {
           "color": "#2a3f5f"
          },
          "geo": {
           "bgcolor": "white",
           "lakecolor": "white",
           "landcolor": "#E5ECF6",
           "showlakes": true,
           "showland": true,
           "subunitcolor": "white"
          },
          "hoverlabel": {
           "align": "left"
          },
          "hovermode": "closest",
          "mapbox": {
           "style": "light"
          },
          "paper_bgcolor": "white",
          "plot_bgcolor": "#E5ECF6",
          "polar": {
           "angularaxis": {
            "gridcolor": "white",
            "linecolor": "white",
            "ticks": ""
           },
           "bgcolor": "#E5ECF6",
           "radialaxis": {
            "gridcolor": "white",
            "linecolor": "white",
            "ticks": ""
           }
          },
          "scene": {
           "xaxis": {
            "backgroundcolor": "#E5ECF6",
            "gridcolor": "white",
            "gridwidth": 2,
            "linecolor": "white",
            "showbackground": true,
            "ticks": "",
            "zerolinecolor": "white"
           },
           "yaxis": {
            "backgroundcolor": "#E5ECF6",
            "gridcolor": "white",
            "gridwidth": 2,
            "linecolor": "white",
            "showbackground": true,
            "ticks": "",
            "zerolinecolor": "white"
           },
           "zaxis": {
            "backgroundcolor": "#E5ECF6",
            "gridcolor": "white",
            "gridwidth": 2,
            "linecolor": "white",
            "showbackground": true,
            "ticks": "",
            "zerolinecolor": "white"
           }
          },
          "shapedefaults": {
           "line": {
            "color": "#2a3f5f"
           }
          },
          "ternary": {
           "aaxis": {
            "gridcolor": "white",
            "linecolor": "white",
            "ticks": ""
           },
           "baxis": {
            "gridcolor": "white",
            "linecolor": "white",
            "ticks": ""
           },
           "bgcolor": "#E5ECF6",
           "caxis": {
            "gridcolor": "white",
            "linecolor": "white",
            "ticks": ""
           }
          },
          "title": {
           "x": 0.05
          },
          "xaxis": {
           "automargin": true,
           "gridcolor": "white",
           "linecolor": "white",
           "ticks": "",
           "title": {
            "standoff": 15
           },
           "zerolinecolor": "white",
           "zerolinewidth": 2
          },
          "yaxis": {
           "automargin": true,
           "gridcolor": "white",
           "linecolor": "white",
           "ticks": "",
           "title": {
            "standoff": 15
           },
           "zerolinecolor": "white",
           "zerolinewidth": 2
          }
         }
        },
        "xaxis": {
         "title": {
          "text": "Time"
         }
        },
        "yaxis": {
         "title": {
          "text": "Heart Rate"
         }
        }
       }
      }
     },
     "metadata": {},
     "output_type": "display_data"
    }
   ],
   "source": [
    "## plot the dataframe\n",
    "fig = go.Figure()\n",
    "for i in range(len(transpose.columns)):\n",
    "    fig.add_trace(go.Scatter(x=transpose.index, y=transpose.iloc[:,i], name=transpose.columns[i], line = dict(width=2, dash='dash')))\n",
    "fig.add_trace(go.Scatter(x=mean_median_Transpose.index, y=mean_median_Transpose['mean'], name='mean', line=dict(color='firebrick', width=2)))\n",
    "fig.add_trace(go.Scatter(x=mean_median_Transpose.index, y=mean_median_Transpose['median'], name='median', line=dict(color='royalblue', width=2)))\n",
    "fig.update_layout(xaxis_title='Time', yaxis_title='Heart Rate')\n",
    "fig.show()"
   ]
  },
  {
   "cell_type": "code",
   "execution_count": 8,
   "metadata": {},
   "outputs": [
    {
     "data": {
      "application/vnd.plotly.v1+json": {
       "config": {
        "plotlyServerURL": "https://plot.ly"
       },
       "data": [
        {
         "mode": "lines",
         "name": "mean",
         "type": "scatter",
         "x": [
          "heart_rate0",
          "heart_rate1",
          "heart_rate2",
          "heart_rate3",
          "heart_rate4",
          "heart_rate5",
          "heart_rate6",
          "heart_rate7",
          "heart_rate8",
          "heart_rate9",
          "heart_rate10",
          "heart_rate11",
          "heart_rate12",
          "heart_rate13",
          "heart_rate14",
          "heart_rate15",
          "heart_rate16",
          "heart_rate17",
          "heart_rate18",
          "heart_rate19",
          "heart_rate20",
          "heart_rate21",
          "heart_rate22",
          "heart_rate23",
          "heart_rate24",
          "heart_rate25",
          "heart_rate26",
          "heart_rate27",
          "heart_rate28",
          "heart_rate29",
          "heart_rate30",
          "heart_rate31",
          "heart_rate32",
          "heart_rate33",
          "heart_rate34",
          "heart_rate35",
          "heart_rate36",
          "heart_rate37",
          "heart_rate38",
          "heart_rate39",
          "heart_rate40",
          "heart_rate41",
          "heart_rate42",
          "heart_rate43",
          "heart_rate44",
          "heart_rate45",
          "heart_rate46",
          "heart_rate47"
         ],
         "y": [
          87.66683492063491,
          86.64509523809524,
          85.55782222222223,
          85.68125714285713,
          86.20741587301588,
          85.44178371735791,
          85.54047619047618,
          86.90106666666667,
          85.95666666666666,
          86.98533333333334,
          87.92704761904761,
          88.01133333333334,
          87.47146666666667,
          86.93133333333334,
          88.81866666666666,
          89.4,
          90.19466666666666,
          89.434,
          90.37266666666666,
          89.65173333333334,
          89.77795151515151,
          89.31666666666668,
          89.8236,
          90.066,
          89.81746666666666,
          88.664,
          89.43733333333333,
          89.232,
          89.18266666666668,
          89.13333333333334,
          88.03466666666665,
          88.84666666666668,
          87.676,
          88.17066666666666,
          88.128,
          87.256,
          87.456,
          87.57733333333334,
          87.4808,
          86.60293333333334,
          86.616,
          86.61760000000001,
          86.84,
          86.28933333333335,
          86.7057142857143,
          86.8488,
          86.6732,
          86.328
         ]
        },
        {
         "mode": "lines",
         "name": "median",
         "type": "scatter",
         "x": [
          "heart_rate0",
          "heart_rate1",
          "heart_rate2",
          "heart_rate3",
          "heart_rate4",
          "heart_rate5",
          "heart_rate6",
          "heart_rate7",
          "heart_rate8",
          "heart_rate9",
          "heart_rate10",
          "heart_rate11",
          "heart_rate12",
          "heart_rate13",
          "heart_rate14",
          "heart_rate15",
          "heart_rate16",
          "heart_rate17",
          "heart_rate18",
          "heart_rate19",
          "heart_rate20",
          "heart_rate21",
          "heart_rate22",
          "heart_rate23",
          "heart_rate24",
          "heart_rate25",
          "heart_rate26",
          "heart_rate27",
          "heart_rate28",
          "heart_rate29",
          "heart_rate30",
          "heart_rate31",
          "heart_rate32",
          "heart_rate33",
          "heart_rate34",
          "heart_rate35",
          "heart_rate36",
          "heart_rate37",
          "heart_rate38",
          "heart_rate39",
          "heart_rate40",
          "heart_rate41",
          "heart_rate42",
          "heart_rate43",
          "heart_rate44",
          "heart_rate45",
          "heart_rate46",
          "heart_rate47"
         ],
         "y": [
          83.33333333333333,
          82,
          82,
          81.75,
          83,
          83,
          84,
          85,
          84,
          85,
          86,
          86,
          87,
          86,
          89,
          90,
          90,
          90,
          91,
          90,
          88,
          90,
          88.5,
          90,
          90,
          88,
          89,
          90,
          88,
          89,
          89,
          89,
          88,
          87,
          88,
          86,
          85,
          87,
          85,
          83,
          82.5,
          85,
          84,
          85,
          84,
          83,
          85,
          85
         ]
        }
       ],
       "layout": {
        "template": {
         "data": {
          "bar": [
           {
            "error_x": {
             "color": "#2a3f5f"
            },
            "error_y": {
             "color": "#2a3f5f"
            },
            "marker": {
             "line": {
              "color": "#E5ECF6",
              "width": 0.5
             }
            },
            "type": "bar"
           }
          ],
          "barpolar": [
           {
            "marker": {
             "line": {
              "color": "#E5ECF6",
              "width": 0.5
             }
            },
            "type": "barpolar"
           }
          ],
          "carpet": [
           {
            "aaxis": {
             "endlinecolor": "#2a3f5f",
             "gridcolor": "white",
             "linecolor": "white",
             "minorgridcolor": "white",
             "startlinecolor": "#2a3f5f"
            },
            "baxis": {
             "endlinecolor": "#2a3f5f",
             "gridcolor": "white",
             "linecolor": "white",
             "minorgridcolor": "white",
             "startlinecolor": "#2a3f5f"
            },
            "type": "carpet"
           }
          ],
          "choropleth": [
           {
            "colorbar": {
             "outlinewidth": 0,
             "ticks": ""
            },
            "type": "choropleth"
           }
          ],
          "contour": [
           {
            "colorbar": {
             "outlinewidth": 0,
             "ticks": ""
            },
            "colorscale": [
             [
              0,
              "#0d0887"
             ],
             [
              0.1111111111111111,
              "#46039f"
             ],
             [
              0.2222222222222222,
              "#7201a8"
             ],
             [
              0.3333333333333333,
              "#9c179e"
             ],
             [
              0.4444444444444444,
              "#bd3786"
             ],
             [
              0.5555555555555556,
              "#d8576b"
             ],
             [
              0.6666666666666666,
              "#ed7953"
             ],
             [
              0.7777777777777778,
              "#fb9f3a"
             ],
             [
              0.8888888888888888,
              "#fdca26"
             ],
             [
              1,
              "#f0f921"
             ]
            ],
            "type": "contour"
           }
          ],
          "contourcarpet": [
           {
            "colorbar": {
             "outlinewidth": 0,
             "ticks": ""
            },
            "type": "contourcarpet"
           }
          ],
          "heatmap": [
           {
            "colorbar": {
             "outlinewidth": 0,
             "ticks": ""
            },
            "colorscale": [
             [
              0,
              "#0d0887"
             ],
             [
              0.1111111111111111,
              "#46039f"
             ],
             [
              0.2222222222222222,
              "#7201a8"
             ],
             [
              0.3333333333333333,
              "#9c179e"
             ],
             [
              0.4444444444444444,
              "#bd3786"
             ],
             [
              0.5555555555555556,
              "#d8576b"
             ],
             [
              0.6666666666666666,
              "#ed7953"
             ],
             [
              0.7777777777777778,
              "#fb9f3a"
             ],
             [
              0.8888888888888888,
              "#fdca26"
             ],
             [
              1,
              "#f0f921"
             ]
            ],
            "type": "heatmap"
           }
          ],
          "heatmapgl": [
           {
            "colorbar": {
             "outlinewidth": 0,
             "ticks": ""
            },
            "colorscale": [
             [
              0,
              "#0d0887"
             ],
             [
              0.1111111111111111,
              "#46039f"
             ],
             [
              0.2222222222222222,
              "#7201a8"
             ],
             [
              0.3333333333333333,
              "#9c179e"
             ],
             [
              0.4444444444444444,
              "#bd3786"
             ],
             [
              0.5555555555555556,
              "#d8576b"
             ],
             [
              0.6666666666666666,
              "#ed7953"
             ],
             [
              0.7777777777777778,
              "#fb9f3a"
             ],
             [
              0.8888888888888888,
              "#fdca26"
             ],
             [
              1,
              "#f0f921"
             ]
            ],
            "type": "heatmapgl"
           }
          ],
          "histogram": [
           {
            "marker": {
             "colorbar": {
              "outlinewidth": 0,
              "ticks": ""
             }
            },
            "type": "histogram"
           }
          ],
          "histogram2d": [
           {
            "colorbar": {
             "outlinewidth": 0,
             "ticks": ""
            },
            "colorscale": [
             [
              0,
              "#0d0887"
             ],
             [
              0.1111111111111111,
              "#46039f"
             ],
             [
              0.2222222222222222,
              "#7201a8"
             ],
             [
              0.3333333333333333,
              "#9c179e"
             ],
             [
              0.4444444444444444,
              "#bd3786"
             ],
             [
              0.5555555555555556,
              "#d8576b"
             ],
             [
              0.6666666666666666,
              "#ed7953"
             ],
             [
              0.7777777777777778,
              "#fb9f3a"
             ],
             [
              0.8888888888888888,
              "#fdca26"
             ],
             [
              1,
              "#f0f921"
             ]
            ],
            "type": "histogram2d"
           }
          ],
          "histogram2dcontour": [
           {
            "colorbar": {
             "outlinewidth": 0,
             "ticks": ""
            },
            "colorscale": [
             [
              0,
              "#0d0887"
             ],
             [
              0.1111111111111111,
              "#46039f"
             ],
             [
              0.2222222222222222,
              "#7201a8"
             ],
             [
              0.3333333333333333,
              "#9c179e"
             ],
             [
              0.4444444444444444,
              "#bd3786"
             ],
             [
              0.5555555555555556,
              "#d8576b"
             ],
             [
              0.6666666666666666,
              "#ed7953"
             ],
             [
              0.7777777777777778,
              "#fb9f3a"
             ],
             [
              0.8888888888888888,
              "#fdca26"
             ],
             [
              1,
              "#f0f921"
             ]
            ],
            "type": "histogram2dcontour"
           }
          ],
          "mesh3d": [
           {
            "colorbar": {
             "outlinewidth": 0,
             "ticks": ""
            },
            "type": "mesh3d"
           }
          ],
          "parcoords": [
           {
            "line": {
             "colorbar": {
              "outlinewidth": 0,
              "ticks": ""
             }
            },
            "type": "parcoords"
           }
          ],
          "pie": [
           {
            "automargin": true,
            "type": "pie"
           }
          ],
          "scatter": [
           {
            "marker": {
             "colorbar": {
              "outlinewidth": 0,
              "ticks": ""
             }
            },
            "type": "scatter"
           }
          ],
          "scatter3d": [
           {
            "line": {
             "colorbar": {
              "outlinewidth": 0,
              "ticks": ""
             }
            },
            "marker": {
             "colorbar": {
              "outlinewidth": 0,
              "ticks": ""
             }
            },
            "type": "scatter3d"
           }
          ],
          "scattercarpet": [
           {
            "marker": {
             "colorbar": {
              "outlinewidth": 0,
              "ticks": ""
             }
            },
            "type": "scattercarpet"
           }
          ],
          "scattergeo": [
           {
            "marker": {
             "colorbar": {
              "outlinewidth": 0,
              "ticks": ""
             }
            },
            "type": "scattergeo"
           }
          ],
          "scattergl": [
           {
            "marker": {
             "colorbar": {
              "outlinewidth": 0,
              "ticks": ""
             }
            },
            "type": "scattergl"
           }
          ],
          "scattermapbox": [
           {
            "marker": {
             "colorbar": {
              "outlinewidth": 0,
              "ticks": ""
             }
            },
            "type": "scattermapbox"
           }
          ],
          "scatterpolar": [
           {
            "marker": {
             "colorbar": {
              "outlinewidth": 0,
              "ticks": ""
             }
            },
            "type": "scatterpolar"
           }
          ],
          "scatterpolargl": [
           {
            "marker": {
             "colorbar": {
              "outlinewidth": 0,
              "ticks": ""
             }
            },
            "type": "scatterpolargl"
           }
          ],
          "scatterternary": [
           {
            "marker": {
             "colorbar": {
              "outlinewidth": 0,
              "ticks": ""
             }
            },
            "type": "scatterternary"
           }
          ],
          "surface": [
           {
            "colorbar": {
             "outlinewidth": 0,
             "ticks": ""
            },
            "colorscale": [
             [
              0,
              "#0d0887"
             ],
             [
              0.1111111111111111,
              "#46039f"
             ],
             [
              0.2222222222222222,
              "#7201a8"
             ],
             [
              0.3333333333333333,
              "#9c179e"
             ],
             [
              0.4444444444444444,
              "#bd3786"
             ],
             [
              0.5555555555555556,
              "#d8576b"
             ],
             [
              0.6666666666666666,
              "#ed7953"
             ],
             [
              0.7777777777777778,
              "#fb9f3a"
             ],
             [
              0.8888888888888888,
              "#fdca26"
             ],
             [
              1,
              "#f0f921"
             ]
            ],
            "type": "surface"
           }
          ],
          "table": [
           {
            "cells": {
             "fill": {
              "color": "#EBF0F8"
             },
             "line": {
              "color": "white"
             }
            },
            "header": {
             "fill": {
              "color": "#C8D4E3"
             },
             "line": {
              "color": "white"
             }
            },
            "type": "table"
           }
          ]
         },
         "layout": {
          "annotationdefaults": {
           "arrowcolor": "#2a3f5f",
           "arrowhead": 0,
           "arrowwidth": 1
          },
          "autotypenumbers": "strict",
          "coloraxis": {
           "colorbar": {
            "outlinewidth": 0,
            "ticks": ""
           }
          },
          "colorscale": {
           "diverging": [
            [
             0,
             "#8e0152"
            ],
            [
             0.1,
             "#c51b7d"
            ],
            [
             0.2,
             "#de77ae"
            ],
            [
             0.3,
             "#f1b6da"
            ],
            [
             0.4,
             "#fde0ef"
            ],
            [
             0.5,
             "#f7f7f7"
            ],
            [
             0.6,
             "#e6f5d0"
            ],
            [
             0.7,
             "#b8e186"
            ],
            [
             0.8,
             "#7fbc41"
            ],
            [
             0.9,
             "#4d9221"
            ],
            [
             1,
             "#276419"
            ]
           ],
           "sequential": [
            [
             0,
             "#0d0887"
            ],
            [
             0.1111111111111111,
             "#46039f"
            ],
            [
             0.2222222222222222,
             "#7201a8"
            ],
            [
             0.3333333333333333,
             "#9c179e"
            ],
            [
             0.4444444444444444,
             "#bd3786"
            ],
            [
             0.5555555555555556,
             "#d8576b"
            ],
            [
             0.6666666666666666,
             "#ed7953"
            ],
            [
             0.7777777777777778,
             "#fb9f3a"
            ],
            [
             0.8888888888888888,
             "#fdca26"
            ],
            [
             1,
             "#f0f921"
            ]
           ],
           "sequentialminus": [
            [
             0,
             "#0d0887"
            ],
            [
             0.1111111111111111,
             "#46039f"
            ],
            [
             0.2222222222222222,
             "#7201a8"
            ],
            [
             0.3333333333333333,
             "#9c179e"
            ],
            [
             0.4444444444444444,
             "#bd3786"
            ],
            [
             0.5555555555555556,
             "#d8576b"
            ],
            [
             0.6666666666666666,
             "#ed7953"
            ],
            [
             0.7777777777777778,
             "#fb9f3a"
            ],
            [
             0.8888888888888888,
             "#fdca26"
            ],
            [
             1,
             "#f0f921"
            ]
           ]
          },
          "colorway": [
           "#636efa",
           "#EF553B",
           "#00cc96",
           "#ab63fa",
           "#FFA15A",
           "#19d3f3",
           "#FF6692",
           "#B6E880",
           "#FF97FF",
           "#FECB52"
          ],
          "font": {
           "color": "#2a3f5f"
          },
          "geo": {
           "bgcolor": "white",
           "lakecolor": "white",
           "landcolor": "#E5ECF6",
           "showlakes": true,
           "showland": true,
           "subunitcolor": "white"
          },
          "hoverlabel": {
           "align": "left"
          },
          "hovermode": "closest",
          "mapbox": {
           "style": "light"
          },
          "paper_bgcolor": "white",
          "plot_bgcolor": "#E5ECF6",
          "polar": {
           "angularaxis": {
            "gridcolor": "white",
            "linecolor": "white",
            "ticks": ""
           },
           "bgcolor": "#E5ECF6",
           "radialaxis": {
            "gridcolor": "white",
            "linecolor": "white",
            "ticks": ""
           }
          },
          "scene": {
           "xaxis": {
            "backgroundcolor": "#E5ECF6",
            "gridcolor": "white",
            "gridwidth": 2,
            "linecolor": "white",
            "showbackground": true,
            "ticks": "",
            "zerolinecolor": "white"
           },
           "yaxis": {
            "backgroundcolor": "#E5ECF6",
            "gridcolor": "white",
            "gridwidth": 2,
            "linecolor": "white",
            "showbackground": true,
            "ticks": "",
            "zerolinecolor": "white"
           },
           "zaxis": {
            "backgroundcolor": "#E5ECF6",
            "gridcolor": "white",
            "gridwidth": 2,
            "linecolor": "white",
            "showbackground": true,
            "ticks": "",
            "zerolinecolor": "white"
           }
          },
          "shapedefaults": {
           "line": {
            "color": "#2a3f5f"
           }
          },
          "ternary": {
           "aaxis": {
            "gridcolor": "white",
            "linecolor": "white",
            "ticks": ""
           },
           "baxis": {
            "gridcolor": "white",
            "linecolor": "white",
            "ticks": ""
           },
           "bgcolor": "#E5ECF6",
           "caxis": {
            "gridcolor": "white",
            "linecolor": "white",
            "ticks": ""
           }
          },
          "title": {
           "x": 0.05
          },
          "xaxis": {
           "automargin": true,
           "gridcolor": "white",
           "linecolor": "white",
           "ticks": "",
           "title": {
            "standoff": 15
           },
           "zerolinecolor": "white",
           "zerolinewidth": 2
          },
          "yaxis": {
           "automargin": true,
           "gridcolor": "white",
           "linecolor": "white",
           "ticks": "",
           "title": {
            "standoff": 15
           },
           "zerolinecolor": "white",
           "zerolinewidth": 2
          }
         }
        },
        "xaxis": {
         "title": {
          "text": "Time"
         }
        },
        "yaxis": {
         "title": {
          "text": "Heart Rate"
         }
        }
       }
      }
     },
     "metadata": {},
     "output_type": "display_data"
    }
   ],
   "source": [
    "fig = go.Figure()\n",
    "fig.add_trace(go.Scatter(x=mean_median_Transpose.index, y=mean_median_Transpose['mean'], name='mean', mode='lines'))\n",
    "fig.add_trace(go.Scatter(x=mean_median_Transpose.index, y=mean_median_Transpose['median'], name='median', mode='lines'))\n",
    "fig.update_layout(xaxis_title='Time', yaxis_title='Heart Rate')\n",
    "fig.show()"
   ]
  },
  {
   "cell_type": "code",
   "execution_count": null,
   "metadata": {},
   "outputs": [],
   "source": [
    "## Label analysis function\n",
    "def plot_features(features, df, y_label):\n",
    "    mean_df = df.loc[['mean'], df.columns.to_series().str.contains(features)]\n",
    "    median_df = df.loc[['50%'], df.columns.to_series().str.contains(features)]\n",
    "    mean_Transpose = mean_df.transpose()\n",
    "    median_Transpose = median_df.transpose()\n",
    "    ## merge the two dataframes\n",
    "    mean_median_Transpose = pd.merge(mean_Transpose, median_Transpose, left_index=True, right_index=True)\n",
    "    mean_median_Transpose.columns = ['mean', 'median']\n",
    "    ## plot the dataframe\n",
    "    fig = go.Figure()\n",
    "    fig.add_trace(go.Scatter(x=mean_median_Transpose.index, y=mean_median_Transpose['mean'], name='mean', mode='lines'))\n",
    "    fig.add_trace(go.Scatter(x=mean_median_Transpose.index, y=mean_median_Transpose['median'], name='median', mode='lines'))\n",
    "    fig.update_layout(xaxis_title='Time', yaxis_title=y_label)\n",
    "    return fig"
   ]
  }
 ],
 "metadata": {
  "interpreter": {
   "hash": "31f2aee4e71d21fbe5cf8b01ff0e069b9275f58929596ceb00d14d90e3e16cd6"
  },
  "kernelspec": {
   "display_name": "Python 3.8.2 64-bit",
   "language": "python",
   "name": "python3"
  },
  "language_info": {
   "codemirror_mode": {
    "name": "ipython",
    "version": 3
   },
   "file_extension": ".py",
   "mimetype": "text/x-python",
   "name": "python",
   "nbconvert_exporter": "python",
   "pygments_lexer": "ipython3",
   "version": "3.8.2"
  },
  "orig_nbformat": 4
 },
 "nbformat": 4,
 "nbformat_minor": 2
}
